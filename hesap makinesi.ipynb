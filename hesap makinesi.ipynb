{
 "cells": [
  {
   "cell_type": "markdown",
   "id": "8cf17f69",
   "metadata": {},
   "source": [
    "# Döngü Kullanarak"
   ]
  },
  {
   "cell_type": "code",
   "execution_count": 1,
   "id": "ca1f9757",
   "metadata": {},
   "outputs": [
    {
     "name": "stdout",
     "output_type": "stream",
     "text": [
      "1. sayıyı giriniz:10\n",
      "2.sayıyı giriniz:23\n",
      "isleminizi seciniz: +-*/*\n"
     ]
    }
   ],
   "source": [
    "sayi_1 = int(input(\"1. sayıyı giriniz:\"))\n",
    "sayı_2 =int(input (\"2.sayıyı giriniz:\")) \n",
    "\n",
    "islem = input(\"isleminizi seciniz: +-*/\")\n",
    "    "
   ]
  },
  {
   "cell_type": "code",
   "execution_count": 2,
   "id": "ac4f52ab",
   "metadata": {},
   "outputs": [
    {
     "name": "stdout",
     "output_type": "stream",
     "text": [
      "230\n"
     ]
    }
   ],
   "source": [
    "if islem == \"+\":\n",
    "    print(sayi_1 + sayı_2)\n",
    "          \n",
    "elif islem == \"-\":\n",
    "    print(sayi_1 -sayı_2)\n",
    "    \n",
    "elif islem == \"*\":\n",
    "    print(sayi_1*sayı_2)\n",
    "\n",
    "else :\n",
    "    print(sayi_1/sayı_2)"
   ]
  },
  {
   "cell_type": "markdown",
   "id": "f322d380",
   "metadata": {},
   "source": [
    "# Daha şık "
   ]
  },
  {
   "cell_type": "code",
   "execution_count": null,
   "id": "7e185271",
   "metadata": {},
   "outputs": [
    {
     "name": "stdout",
     "output_type": "stream",
     "text": [
      "1. sayıyı giriniz:26\n",
      "2.sayıyı giriniz:59\n",
      "isleminizi seciniz: +-*//\n",
      "26/59= 0.4406779661016949\n"
     ]
    }
   ],
   "source": [
    "def hesapla(a,b,islem):\n",
    "    \n",
    "    if islem not in \"+-*/\":\n",
    "        print(\"Lütfen bu islemlerden birini seçiniz\")\n",
    "    \n",
    "    if islem == \"+\":\n",
    "        return (str(a)+ \"+\"+ str(b)+\"= \"+ str(a+b))\n",
    "    if islem == \"-\":\n",
    "        return (str(a)+ \"-\"+ str(b)+\"= \"+ str(a-b))\n",
    "    \n",
    "    if islem == \"*\":\n",
    "        return (str(a)+ \"*\"+ str(b)+\"= \"+ str(a*b))\n",
    "    if islem == \"/\":\n",
    "        return (str(a)+ \"/\"+ str(b)+\"= \"+ str(a/b))\n",
    "    \n",
    "   \n",
    "while True:\n",
    "    try:\n",
    "        a = int(input(\"1. sayıyı giriniz:\"))\n",
    "        b = int(input (\"2.sayıyı giriniz:\")) \n",
    "        islem = input(\"isleminizi seciniz: +-*/\")\n",
    "        print(hesapla(a,b,islem))\n",
    "    except:\n",
    "        print(\"Lütfen sayıları düzgün girini.\")\n",
    "    \n",
    "    \n"
   ]
  },
  {
   "cell_type": "code",
   "execution_count": null,
   "id": "5fca401e",
   "metadata": {},
   "outputs": [],
   "source": []
  },
  {
   "cell_type": "code",
   "execution_count": null,
   "id": "93a302fa",
   "metadata": {},
   "outputs": [],
   "source": []
  }
 ],
 "metadata": {
  "kernelspec": {
   "display_name": "Python 3 (ipykernel)",
   "language": "python",
   "name": "python3"
  },
  "language_info": {
   "codemirror_mode": {
    "name": "ipython",
    "version": 3
   },
   "file_extension": ".py",
   "mimetype": "text/x-python",
   "name": "python",
   "nbconvert_exporter": "python",
   "pygments_lexer": "ipython3",
   "version": "3.9.7"
  }
 },
 "nbformat": 4,
 "nbformat_minor": 5
}
