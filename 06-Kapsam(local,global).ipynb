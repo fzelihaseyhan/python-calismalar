{
 "cells": [
  {
   "cell_type": "code",
   "execution_count": 2,
   "id": "5adbe23f",
   "metadata": {},
   "outputs": [],
   "source": [
    "numara = 20\n",
    "def carpma(rakam):\n",
    "    numara = 10\n",
    "    return numara * rakam"
   ]
  },
  {
   "cell_type": "code",
   "execution_count": 3,
   "id": "55d3711f",
   "metadata": {},
   "outputs": [
    {
     "data": {
      "text/plain": [
       "50"
      ]
     },
     "execution_count": 3,
     "metadata": {},
     "output_type": "execute_result"
    }
   ],
   "source": [
    "carpma(5)"
   ]
  },
  {
   "cell_type": "code",
   "execution_count": 4,
   "id": "1c9f9ad1",
   "metadata": {},
   "outputs": [
    {
     "data": {
      "text/plain": [
       "20"
      ]
     },
     "execution_count": 4,
     "metadata": {},
     "output_type": "execute_result"
    }
   ],
   "source": [
    "numara"
   ]
  },
  {
   "cell_type": "code",
   "execution_count": 5,
   "id": "050824b0",
   "metadata": {},
   "outputs": [],
   "source": [
    "x = 200\n",
    "x = 10"
   ]
  },
  {
   "cell_type": "code",
   "execution_count": 6,
   "id": "c58c507a",
   "metadata": {},
   "outputs": [
    {
     "data": {
      "text/plain": [
       "10"
      ]
     },
     "execution_count": 6,
     "metadata": {},
     "output_type": "execute_result"
    }
   ],
   "source": [
    "x"
   ]
  },
  {
   "cell_type": "markdown",
   "id": "12a0f1ee",
   "metadata": {},
   "source": [
    "# Local,Enclosing,Global,Built-in"
   ]
  },
  {
   "cell_type": "code",
   "execution_count": 10,
   "id": "9b647ce0",
   "metadata": {},
   "outputs": [],
   "source": [
    "myName = \"Zeliha\"         #Global\n",
    "\n",
    "def benimFonk():\n",
    "    myName = \"Merthan\"    #Enclosing\n",
    "    \n",
    "    def icFonksiyon():\n",
    "        myName = \"SEYHAN\"     #Local\n",
    "        print(myName)\n",
    "        \n",
    "    icFonksiyon()"
   ]
  },
  {
   "cell_type": "code",
   "execution_count": 11,
   "id": "4aa2c7e0",
   "metadata": {},
   "outputs": [
    {
     "name": "stdout",
     "output_type": "stream",
     "text": [
      "SEYHAN\n"
     ]
    }
   ],
   "source": [
    "benimFonk()"
   ]
  },
  {
   "cell_type": "code",
   "execution_count": 12,
   "id": "a6646c6f",
   "metadata": {},
   "outputs": [
    {
     "name": "stdout",
     "output_type": "stream",
     "text": [
      "Zeliha\n"
     ]
    }
   ],
   "source": [
    "print(myName)"
   ]
  },
  {
   "cell_type": "code",
   "execution_count": 13,
   "id": "1374d01c",
   "metadata": {},
   "outputs": [],
   "source": [
    "y = 10 \n",
    "\n",
    "def newFunc(y):\n",
    "    print(y)\n",
    "    y = 5\n",
    "    print(y)\n",
    "    return y\n",
    "\n"
   ]
  },
  {
   "cell_type": "code",
   "execution_count": 19,
   "id": "4d0be4af",
   "metadata": {},
   "outputs": [
    {
     "data": {
      "text/plain": [
       "10"
      ]
     },
     "execution_count": 19,
     "metadata": {},
     "output_type": "execute_result"
    }
   ],
   "source": [
    "y"
   ]
  },
  {
   "cell_type": "code",
   "execution_count": 20,
   "id": "9f8a9253",
   "metadata": {},
   "outputs": [
    {
     "name": "stdout",
     "output_type": "stream",
     "text": [
      "10\n",
      "5\n"
     ]
    },
    {
     "data": {
      "text/plain": [
       "5"
      ]
     },
     "execution_count": 20,
     "metadata": {},
     "output_type": "execute_result"
    }
   ],
   "source": [
    "newFunc(y)"
   ]
  },
  {
   "cell_type": "code",
   "execution_count": 21,
   "id": "6f9e026b",
   "metadata": {},
   "outputs": [
    {
     "name": "stdout",
     "output_type": "stream",
     "text": [
      "6\n",
      "5\n"
     ]
    },
    {
     "data": {
      "text/plain": [
       "5"
      ]
     },
     "execution_count": 21,
     "metadata": {},
     "output_type": "execute_result"
    }
   ],
   "source": [
    "newFunc(6)"
   ]
  },
  {
   "cell_type": "code",
   "execution_count": 22,
   "id": "b2e9ad3e",
   "metadata": {},
   "outputs": [
    {
     "name": "stdout",
     "output_type": "stream",
     "text": [
      "9\n",
      "5\n"
     ]
    }
   ],
   "source": [
    "y = newFunc(9)"
   ]
  },
  {
   "cell_type": "code",
   "execution_count": 23,
   "id": "59a2e325",
   "metadata": {},
   "outputs": [
    {
     "data": {
      "text/plain": [
       "5"
      ]
     },
     "execution_count": 23,
     "metadata": {},
     "output_type": "execute_result"
    }
   ],
   "source": [
    "y"
   ]
  },
  {
   "cell_type": "code",
   "execution_count": 30,
   "id": "09063b52",
   "metadata": {},
   "outputs": [],
   "source": [
    "y = 104\n",
    "\n",
    "def ornekFonksiyon():\n",
    "    global y\n",
    "    y = 5\n",
    "    print(y)"
   ]
  },
  {
   "cell_type": "code",
   "execution_count": 31,
   "id": "5c6103f5",
   "metadata": {},
   "outputs": [
    {
     "data": {
      "text/plain": [
       "104"
      ]
     },
     "execution_count": 31,
     "metadata": {},
     "output_type": "execute_result"
    }
   ],
   "source": [
    "y"
   ]
  },
  {
   "cell_type": "code",
   "execution_count": 33,
   "id": "5a6e1626",
   "metadata": {},
   "outputs": [
    {
     "name": "stdout",
     "output_type": "stream",
     "text": [
      "5\n"
     ]
    }
   ],
   "source": [
    "ornekFonksiyon()"
   ]
  },
  {
   "cell_type": "code",
   "execution_count": 34,
   "id": "a8acd5d3",
   "metadata": {},
   "outputs": [
    {
     "data": {
      "text/plain": [
       "5"
      ]
     },
     "execution_count": 34,
     "metadata": {},
     "output_type": "execute_result"
    }
   ],
   "source": [
    "y"
   ]
  }
 ],
 "metadata": {
  "kernelspec": {
   "display_name": "Python 3 (ipykernel)",
   "language": "python",
   "name": "python3"
  },
  "language_info": {
   "codemirror_mode": {
    "name": "ipython",
    "version": 3
   },
   "file_extension": ".py",
   "mimetype": "text/x-python",
   "name": "python",
   "nbconvert_exporter": "python",
   "pygments_lexer": "ipython3",
   "version": "3.9.7"
  }
 },
 "nbformat": 4,
 "nbformat_minor": 5
}
