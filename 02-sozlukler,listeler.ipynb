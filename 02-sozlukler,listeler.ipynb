{
 "cells": [
  {
   "cell_type": "code",
   "execution_count": 1,
   "id": "fbad3cf1",
   "metadata": {},
   "outputs": [
    {
     "data": {
      "text/plain": [
       "'i'"
      ]
     },
     "execution_count": 1,
     "metadata": {},
     "output_type": "execute_result"
    }
   ],
   "source": [
    "benimString = \"Zeliha SEYHAN\"\n",
    "benimString[3]"
   ]
  },
  {
   "cell_type": "markdown",
   "id": "09326e83",
   "metadata": {},
   "source": [
    "# immubility & mutable"
   ]
  },
  {
   "cell_type": "code",
   "execution_count": 2,
   "id": "f2234b28",
   "metadata": {},
   "outputs": [
    {
     "data": {
      "text/plain": [
       "'Zeliha SEYHAN'"
      ]
     },
     "execution_count": 2,
     "metadata": {},
     "output_type": "execute_result"
    }
   ],
   "source": [
    "B = benimString\n",
    "B"
   ]
  },
  {
   "cell_type": "code",
   "execution_count": 3,
   "id": "11d7e01a",
   "metadata": {},
   "outputs": [
    {
     "data": {
      "text/plain": [
       "[10, 20, 30, 40]"
      ]
     },
     "execution_count": 3,
     "metadata": {},
     "output_type": "execute_result"
    }
   ],
   "source": [
    "list_1 = [10,20,30,40]\n",
    "list_1"
   ]
  },
  {
   "cell_type": "code",
   "execution_count": 4,
   "id": "6bb0ea0b",
   "metadata": {},
   "outputs": [
    {
     "data": {
      "text/plain": [
       "list"
      ]
     },
     "execution_count": 4,
     "metadata": {},
     "output_type": "execute_result"
    }
   ],
   "source": [
    "type(list_1) # türü"
   ]
  },
  {
   "cell_type": "code",
   "execution_count": 5,
   "id": "04129a39",
   "metadata": {},
   "outputs": [
    {
     "data": {
      "text/plain": [
       "4"
      ]
     },
     "execution_count": 5,
     "metadata": {},
     "output_type": "execute_result"
    }
   ],
   "source": [
    "len(list_1) # uzunluk"
   ]
  },
  {
   "cell_type": "code",
   "execution_count": 6,
   "id": "cf873d52",
   "metadata": {},
   "outputs": [
    {
     "data": {
      "text/plain": [
       "10"
      ]
     },
     "execution_count": 6,
     "metadata": {},
     "output_type": "execute_result"
    }
   ],
   "source": [
    "list_1[0]"
   ]
  },
  {
   "cell_type": "code",
   "execution_count": 7,
   "id": "6488f6dc",
   "metadata": {},
   "outputs": [
    {
     "data": {
      "text/plain": [
       "[10, 20]"
      ]
     },
     "execution_count": 7,
     "metadata": {},
     "output_type": "execute_result"
    }
   ],
   "source": [
    "benimList = 10\n",
    "benimList_2 = 20\n",
    "\n",
    "numaraListem =[benimList,benimList_2]\n",
    "numaraListem"
   ]
  },
  {
   "cell_type": "code",
   "execution_count": 8,
   "id": "22094a59",
   "metadata": {},
   "outputs": [
    {
     "data": {
      "text/plain": [
       "10"
      ]
     },
     "execution_count": 8,
     "metadata": {},
     "output_type": "execute_result"
    }
   ],
   "source": [
    "numaraListem[0]"
   ]
  },
  {
   "cell_type": "code",
   "execution_count": 9,
   "id": "4bfcded7",
   "metadata": {},
   "outputs": [
    {
     "data": {
      "text/plain": [
       "40"
      ]
     },
     "execution_count": 9,
     "metadata": {},
     "output_type": "execute_result"
    }
   ],
   "source": [
    "list_1[3]"
   ]
  },
  {
   "cell_type": "code",
   "execution_count": 10,
   "id": "ef8bbe0d",
   "metadata": {},
   "outputs": [],
   "source": [
    "list_1[3] = 100 # eleman değeri değiştirilebilir."
   ]
  },
  {
   "cell_type": "code",
   "execution_count": 11,
   "id": "27110845",
   "metadata": {},
   "outputs": [
    {
     "data": {
      "text/plain": [
       "[10, 20, 30, 100]"
      ]
     },
     "execution_count": 11,
     "metadata": {},
     "output_type": "execute_result"
    }
   ],
   "source": [
    "list_1"
   ]
  },
  {
   "cell_type": "code",
   "execution_count": 12,
   "id": "0e1e2e1d",
   "metadata": {},
   "outputs": [
    {
     "data": {
      "text/plain": [
       "[10, 20, 30, 100, 50]"
      ]
     },
     "execution_count": 12,
     "metadata": {},
     "output_type": "execute_result"
    }
   ],
   "source": [
    "list_1.append(50) # liste sonuna 1 eleman ekledim\n",
    "list_1"
   ]
  },
  {
   "cell_type": "code",
   "execution_count": 13,
   "id": "20024721",
   "metadata": {},
   "outputs": [
    {
     "data": {
      "text/plain": [
       "50"
      ]
     },
     "execution_count": 13,
     "metadata": {},
     "output_type": "execute_result"
    }
   ],
   "source": [
    "list_1.pop() # son elemanı verir"
   ]
  },
  {
   "cell_type": "code",
   "execution_count": 14,
   "id": "df8d3809",
   "metadata": {},
   "outputs": [
    {
     "data": {
      "text/plain": [
       "[10, 20, 30, 100]"
      ]
     },
     "execution_count": 14,
     "metadata": {},
     "output_type": "execute_result"
    }
   ],
   "source": [
    "list_1"
   ]
  },
  {
   "cell_type": "code",
   "execution_count": 15,
   "id": "5a8d9d98",
   "metadata": {},
   "outputs": [],
   "source": [
    "list_1.remove(100) # belirtilen o elemanı siler"
   ]
  },
  {
   "cell_type": "code",
   "execution_count": 17,
   "id": "141b7e7d",
   "metadata": {},
   "outputs": [
    {
     "data": {
      "text/plain": [
       "[10, 20, 30]"
      ]
     },
     "execution_count": 17,
     "metadata": {},
     "output_type": "execute_result"
    }
   ],
   "source": [
    "list_1"
   ]
  },
  {
   "cell_type": "code",
   "execution_count": 18,
   "id": "1ed9f81a",
   "metadata": {},
   "outputs": [
    {
     "data": {
      "text/plain": [
       "1"
      ]
     },
     "execution_count": 18,
     "metadata": {},
     "output_type": "execute_result"
    }
   ],
   "source": [
    "list_1.count(20) # o elemandan listede kaç tane var"
   ]
  },
  {
   "cell_type": "code",
   "execution_count": 19,
   "id": "1ec7287b",
   "metadata": {},
   "outputs": [],
   "source": [
    "list_1.append(20)"
   ]
  },
  {
   "cell_type": "code",
   "execution_count": 20,
   "id": "32d9f7ac",
   "metadata": {},
   "outputs": [
    {
     "data": {
      "text/plain": [
       "[10, 20, 30, 20]"
      ]
     },
     "execution_count": 20,
     "metadata": {},
     "output_type": "execute_result"
    }
   ],
   "source": [
    "list_1"
   ]
  },
  {
   "cell_type": "code",
   "execution_count": 21,
   "id": "7320a385",
   "metadata": {},
   "outputs": [
    {
     "data": {
      "text/plain": [
       "2"
      ]
     },
     "execution_count": 21,
     "metadata": {},
     "output_type": "execute_result"
    }
   ],
   "source": [
    "list_1.count(20)"
   ]
  },
  {
   "cell_type": "code",
   "execution_count": 22,
   "id": "4cceba13",
   "metadata": {},
   "outputs": [],
   "source": [
    "yeniListem = [\"zeliha\", \"firdevs\", \"büşra\"]"
   ]
  },
  {
   "cell_type": "code",
   "execution_count": 23,
   "id": "30aabd9d",
   "metadata": {},
   "outputs": [],
   "source": [
    "digerListe = [\"fadime\", \"süheda\", \"rasit\"]"
   ]
  },
  {
   "cell_type": "code",
   "execution_count": 24,
   "id": "cb5dd987",
   "metadata": {},
   "outputs": [
    {
     "data": {
      "text/plain": [
       "'büşra'"
      ]
     },
     "execution_count": 24,
     "metadata": {},
     "output_type": "execute_result"
    }
   ],
   "source": [
    "yeniListem[2]"
   ]
  },
  {
   "cell_type": "code",
   "execution_count": 25,
   "id": "d272ec2a",
   "metadata": {},
   "outputs": [
    {
     "data": {
      "text/plain": [
       "'süheda'"
      ]
     },
     "execution_count": 25,
     "metadata": {},
     "output_type": "execute_result"
    }
   ],
   "source": [
    "digerListe[1]"
   ]
  },
  {
   "cell_type": "code",
   "execution_count": 26,
   "id": "353b7673",
   "metadata": {},
   "outputs": [
    {
     "data": {
      "text/plain": [
       "1"
      ]
     },
     "execution_count": 26,
     "metadata": {},
     "output_type": "execute_result"
    }
   ],
   "source": [
    "yeniListem.count(\"zeliha\")"
   ]
  },
  {
   "cell_type": "code",
   "execution_count": 27,
   "id": "60d3edb5",
   "metadata": {},
   "outputs": [
    {
     "data": {
      "text/plain": [
       "['zeliha', 'firdevs', 'büşra', 'fadime', 'süheda', 'rasit']"
      ]
     },
     "execution_count": 27,
     "metadata": {},
     "output_type": "execute_result"
    }
   ],
   "source": [
    "yeniListem + digerListe # iki liste yan yana eklenebilir."
   ]
  },
  {
   "cell_type": "code",
   "execution_count": 28,
   "id": "11863683",
   "metadata": {},
   "outputs": [
    {
     "data": {
      "text/plain": [
       "['zeliha',\n",
       " 'firdevs',\n",
       " 'büşra',\n",
       " 'zeliha',\n",
       " 'firdevs',\n",
       " 'büşra',\n",
       " 'zeliha',\n",
       " 'firdevs',\n",
       " 'büşra']"
      ]
     },
     "execution_count": 28,
     "metadata": {},
     "output_type": "execute_result"
    }
   ],
   "source": [
    "yeniListem * 3"
   ]
  },
  {
   "cell_type": "code",
   "execution_count": 29,
   "id": "9548ae40",
   "metadata": {},
   "outputs": [],
   "source": [
    "yeniListem.reverse() #elemanların yeri değişir "
   ]
  },
  {
   "cell_type": "code",
   "execution_count": 30,
   "id": "f1ba2dbd",
   "metadata": {},
   "outputs": [
    {
     "data": {
      "text/plain": [
       "['büşra', 'firdevs', 'zeliha']"
      ]
     },
     "execution_count": 30,
     "metadata": {},
     "output_type": "execute_result"
    }
   ],
   "source": [
    "yeniListem"
   ]
  },
  {
   "cell_type": "code",
   "execution_count": 31,
   "id": "a31f7b8f",
   "metadata": {},
   "outputs": [
    {
     "data": {
      "text/plain": [
       "list"
      ]
     },
     "execution_count": 31,
     "metadata": {},
     "output_type": "execute_result"
    }
   ],
   "source": [
    "liste = [1,2,3,4, \"Zeliha\",7.6] \n",
    "type(liste)\n"
   ]
  },
  {
   "cell_type": "code",
   "execution_count": 32,
   "id": "93412dfc",
   "metadata": {},
   "outputs": [
    {
     "data": {
      "text/plain": [
       "str"
      ]
     },
     "execution_count": 32,
     "metadata": {},
     "output_type": "execute_result"
    }
   ],
   "source": [
    "a = liste[4]\n",
    "type(a)"
   ]
  },
  {
   "cell_type": "code",
   "execution_count": 33,
   "id": "b5b6c088",
   "metadata": {},
   "outputs": [
    {
     "data": {
      "text/plain": [
       "float"
      ]
     },
     "execution_count": 33,
     "metadata": {},
     "output_type": "execute_result"
    }
   ],
   "source": [
    "b = liste[5]\n",
    "type(b)"
   ]
  },
  {
   "cell_type": "code",
   "execution_count": 35,
   "id": "a303ead0",
   "metadata": {},
   "outputs": [],
   "source": [
    "nestedList = [2,3,\"zeliha\",[6,\"z\"]]  # liste içine liste"
   ]
  },
  {
   "cell_type": "code",
   "execution_count": 36,
   "id": "72720dd0",
   "metadata": {},
   "outputs": [
    {
     "data": {
      "text/plain": [
       "'z'"
      ]
     },
     "execution_count": 36,
     "metadata": {},
     "output_type": "execute_result"
    }
   ],
   "source": [
    "c = nestedList[-1][1] # listenin içindeki listeden eleman alırken\n",
    "c"
   ]
  },
  {
   "cell_type": "code",
   "execution_count": 37,
   "id": "8bc17e06",
   "metadata": {},
   "outputs": [],
   "source": [
    "karmasikListe = [[1,2,3,[\"a\",\"b\"],50],40,20,[\"z\",5.5]]"
   ]
  },
  {
   "cell_type": "code",
   "execution_count": 38,
   "id": "4d76153d",
   "metadata": {},
   "outputs": [
    {
     "data": {
      "text/plain": [
       "'b'"
      ]
     },
     "execution_count": 38,
     "metadata": {},
     "output_type": "execute_result"
    }
   ],
   "source": [
    "x = karmasikListe[0][3][1]\n",
    "x"
   ]
  },
  {
   "cell_type": "code",
   "execution_count": 39,
   "id": "9cfcd133",
   "metadata": {},
   "outputs": [
    {
     "data": {
      "text/plain": [
       "[2, 3, 'zeliha', [6, 'z']]"
      ]
     },
     "execution_count": 39,
     "metadata": {},
     "output_type": "execute_result"
    }
   ],
   "source": [
    "nestedList"
   ]
  },
  {
   "cell_type": "code",
   "execution_count": 40,
   "id": "afb90638",
   "metadata": {},
   "outputs": [
    {
     "data": {
      "text/plain": [
       "['zeliha', [6, 'z']]"
      ]
     },
     "execution_count": 40,
     "metadata": {},
     "output_type": "execute_result"
    }
   ],
   "source": [
    "nestedList[2:]"
   ]
  },
  {
   "cell_type": "markdown",
   "id": "b3b3e34d",
   "metadata": {},
   "source": [
    "# SÖZLÜKLER (key-value pairing:anahtar-değer eşleşmesi)"
   ]
  },
  {
   "cell_type": "code",
   "execution_count": 41,
   "id": "2f5a0ad0",
   "metadata": {},
   "outputs": [],
   "source": [
    "benimYemeklerim = [\"elma\", \"karpuz\", \"muz\"]"
   ]
  },
  {
   "cell_type": "code",
   "execution_count": 42,
   "id": "8fb3c18a",
   "metadata": {},
   "outputs": [],
   "source": [
    "kaloriler = [100,200,300]"
   ]
  },
  {
   "cell_type": "code",
   "execution_count": 43,
   "id": "a26706b5",
   "metadata": {},
   "outputs": [],
   "source": [
    "benimSozluk = {\"anahtarkelime\": \"deger\"} # Dictionary"
   ]
  },
  {
   "cell_type": "code",
   "execution_count": 44,
   "id": "1a13eaae",
   "metadata": {},
   "outputs": [
    {
     "data": {
      "text/plain": [
       "dict"
      ]
     },
     "execution_count": 44,
     "metadata": {},
     "output_type": "execute_result"
    }
   ],
   "source": [
    "type(benimSozluk)"
   ]
  },
  {
   "cell_type": "code",
   "execution_count": 45,
   "id": "12018e79",
   "metadata": {},
   "outputs": [
    {
     "data": {
      "text/plain": [
       "'deger'"
      ]
     },
     "execution_count": 45,
     "metadata": {},
     "output_type": "execute_result"
    }
   ],
   "source": [
    "benimSozluk[\"anahtarkelime\"]"
   ]
  },
  {
   "cell_type": "code",
   "execution_count": 46,
   "id": "1a20db74",
   "metadata": {},
   "outputs": [],
   "source": [
    "kaloriSozlugum = {\"elma\" : 100, \"muz\" :200, \"karpuz\":300}"
   ]
  },
  {
   "cell_type": "code",
   "execution_count": 47,
   "id": "3218f12c",
   "metadata": {},
   "outputs": [
    {
     "data": {
      "text/plain": [
       "200"
      ]
     },
     "execution_count": 47,
     "metadata": {},
     "output_type": "execute_result"
    }
   ],
   "source": [
    "kaloriSozlugum[\"muz\"]"
   ]
  },
  {
   "cell_type": "code",
   "execution_count": 48,
   "id": "fb0c7079",
   "metadata": {},
   "outputs": [],
   "source": [
    "kaloriSozlugum[\"muz\"] = 500 # değeri değiştirebiliriz."
   ]
  },
  {
   "cell_type": "code",
   "execution_count": 49,
   "id": "b3154980",
   "metadata": {},
   "outputs": [
    {
     "data": {
      "text/plain": [
       "{'elma': 100, 'muz': 500, 'karpuz': 300}"
      ]
     },
     "execution_count": 49,
     "metadata": {},
     "output_type": "execute_result"
    }
   ],
   "source": [
    "kaloriSozlugum"
   ]
  },
  {
   "cell_type": "code",
   "execution_count": 50,
   "id": "f62042e4",
   "metadata": {},
   "outputs": [],
   "source": [
    "sozluk_1 = {\"zeliha\": \"SEYHAN\", \"yas\":22, \"yıl\":2022, 150:\"zeliha\" }"
   ]
  },
  {
   "cell_type": "code",
   "execution_count": 51,
   "id": "2f29f7a5",
   "metadata": {},
   "outputs": [
    {
     "data": {
      "text/plain": [
       "'zeliha'"
      ]
     },
     "execution_count": 51,
     "metadata": {},
     "output_type": "execute_result"
    }
   ],
   "source": [
    "sozluk_1[150]"
   ]
  },
  {
   "cell_type": "code",
   "execution_count": 52,
   "id": "c488d6ac",
   "metadata": {},
   "outputs": [
    {
     "data": {
      "text/plain": [
       "2022"
      ]
     },
     "execution_count": 52,
     "metadata": {},
     "output_type": "execute_result"
    }
   ],
   "source": [
    "sozluk_1[\"yıl\"]"
   ]
  },
  {
   "cell_type": "code",
   "execution_count": 53,
   "id": "2d804cce",
   "metadata": {},
   "outputs": [],
   "source": [
    "newDictionary = {\"anahtar\" : 100, \"anahtar1\" : 200, \"anahtar2\" :[10,20,30,\"zeliha\"],\"anahtar3\" :{\"anahtar4\" : 15}}\n"
   ]
  },
  {
   "cell_type": "code",
   "execution_count": 54,
   "id": "7c8a9625",
   "metadata": {},
   "outputs": [
    {
     "data": {
      "text/plain": [
       "{'anahtar4': 15}"
      ]
     },
     "execution_count": 54,
     "metadata": {},
     "output_type": "execute_result"
    }
   ],
   "source": [
    "newDictionary[\"anahtar3\"]"
   ]
  },
  {
   "cell_type": "code",
   "execution_count": 55,
   "id": "f7733e98",
   "metadata": {},
   "outputs": [
    {
     "data": {
      "text/plain": [
       "dict_keys(['anahtar', 'anahtar1', 'anahtar2', 'anahtar3'])"
      ]
     },
     "execution_count": 55,
     "metadata": {},
     "output_type": "execute_result"
    }
   ],
   "source": [
    "newDictionary.keys()"
   ]
  },
  {
   "cell_type": "code",
   "execution_count": 56,
   "id": "e53e5305",
   "metadata": {},
   "outputs": [
    {
     "data": {
      "text/plain": [
       "dict_values([100, 200, [10, 20, 30, 'zeliha'], {'anahtar4': 15}])"
      ]
     },
     "execution_count": 56,
     "metadata": {},
     "output_type": "execute_result"
    }
   ],
   "source": [
    "newDictionary.values()"
   ]
  },
  {
   "cell_type": "code",
   "execution_count": 57,
   "id": "db42a0dd",
   "metadata": {},
   "outputs": [
    {
     "data": {
      "text/plain": [
       "'zeliha'"
      ]
     },
     "execution_count": 57,
     "metadata": {},
     "output_type": "execute_result"
    }
   ],
   "source": [
    "newDictionary[\"anahtar2\"][3]"
   ]
  },
  {
   "cell_type": "code",
   "execution_count": 58,
   "id": "b59f9222",
   "metadata": {},
   "outputs": [
    {
     "data": {
      "text/plain": [
       "15"
      ]
     },
     "execution_count": 58,
     "metadata": {},
     "output_type": "execute_result"
    }
   ],
   "source": [
    "newDictionary[\"anahtar3\"][\"anahtar4\"]"
   ]
  }
 ],
 "metadata": {
  "kernelspec": {
   "display_name": "Python 3 (ipykernel)",
   "language": "python",
   "name": "python3"
  },
  "language_info": {
   "codemirror_mode": {
    "name": "ipython",
    "version": 3
   },
   "file_extension": ".py",
   "mimetype": "text/x-python",
   "name": "python",
   "nbconvert_exporter": "python",
   "pygments_lexer": "ipython3",
   "version": "3.9.7"
  }
 },
 "nbformat": 4,
 "nbformat_minor": 5
}
