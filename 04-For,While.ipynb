{
 "cells": [
  {
   "cell_type": "code",
   "execution_count": 1,
   "id": "6db47c16",
   "metadata": {},
   "outputs": [],
   "source": [
    "list_1 = [10,20,50,60]"
   ]
  },
  {
   "cell_type": "code",
   "execution_count": 92,
   "id": "441497be",
   "metadata": {},
   "outputs": [
    {
     "name": "stdout",
     "output_type": "stream",
     "text": [
      "eleman listede var:20\n"
     ]
    }
   ],
   "source": [
    "if 20 in list_1:\n",
    "    print(\"eleman listede var:{}\".format(20))\n",
    "else:\n",
    "    print(\"eleman listede yok\")"
   ]
  },
  {
   "cell_type": "code",
   "execution_count": 3,
   "id": "7ac89102",
   "metadata": {},
   "outputs": [
    {
     "name": "stdout",
     "output_type": "stream",
     "text": [
      "varmış\n"
     ]
    }
   ],
   "source": [
    "if 50 in list_1:\n",
    "    print(\"varmış\")"
   ]
  },
  {
   "cell_type": "code",
   "execution_count": 4,
   "id": "d66dc8bd",
   "metadata": {},
   "outputs": [
    {
     "data": {
      "text/plain": [
       "22.5"
      ]
     },
     "execution_count": 4,
     "metadata": {},
     "output_type": "execute_result"
    }
   ],
   "source": [
    "list_1[3] * 3 /8"
   ]
  },
  {
   "cell_type": "code",
   "execution_count": 5,
   "id": "523fa6af",
   "metadata": {},
   "outputs": [
    {
     "name": "stdout",
     "output_type": "stream",
     "text": [
      "10\n",
      "20\n",
      "50\n",
      "60\n"
     ]
    }
   ],
   "source": [
    "for sayilar in list_1:\n",
    "    print(sayilar)"
   ]
  },
  {
   "cell_type": "code",
   "execution_count": 8,
   "id": "a65f1156",
   "metadata": {},
   "outputs": [
    {
     "name": "stdout",
     "output_type": "stream",
     "text": [
      "100\n",
      "400\n",
      "2500\n",
      "3600\n"
     ]
    }
   ],
   "source": [
    "for sayilar in list_1:\n",
    "    sayilar = sayilar**2 # kare alma işlemi uygular\n",
    "    print(sayilar)"
   ]
  },
  {
   "cell_type": "code",
   "execution_count": 9,
   "id": "0630b816",
   "metadata": {},
   "outputs": [
    {
     "name": "stdout",
     "output_type": "stream",
     "text": [
      "2.0\n",
      "4.0\n",
      "10.0\n",
      "12.0\n"
     ]
    }
   ],
   "source": [
    "for numara in list_1:\n",
    "    print(numara/5)"
   ]
  },
  {
   "cell_type": "code",
   "execution_count": 10,
   "id": "a598de50",
   "metadata": {},
   "outputs": [
    {
     "name": "stdout",
     "output_type": "stream",
     "text": [
      "186.0\n",
      "372.0\n",
      "930.0\n",
      "1116.0\n"
     ]
    }
   ],
   "source": [
    "for num in list_1:\n",
    "    newNum = num /5*93\n",
    "    print(newNum)\n"
   ]
  },
  {
   "cell_type": "code",
   "execution_count": null,
   "id": "ff3163f6",
   "metadata": {},
   "outputs": [],
   "source": [
    "for sayilar in list_1:\n",
    "    if sayilar == 60: # 60 sayısına geldiğinde döngü kırılır.\n",
    "        break\n",
    "    print(sayilar)"
   ]
  },
  {
   "cell_type": "code",
   "execution_count": 11,
   "id": "01bf1004",
   "metadata": {},
   "outputs": [
    {
     "name": "stdout",
     "output_type": "stream",
     "text": [
      "12\n",
      "36\n",
      "59\n",
      "48\n",
      "75\n",
      "61\n"
     ]
    }
   ],
   "source": [
    "newList = [12,36,59,48,75,61]\n",
    "\n",
    "for sayı in newList:\n",
    "    print(sayı)"
   ]
  },
  {
   "cell_type": "code",
   "execution_count": 15,
   "id": "c62736a4",
   "metadata": {},
   "outputs": [
    {
     "name": "stdout",
     "output_type": "stream",
     "text": [
      "Çift sayı: 12\n",
      "Çift sayı: 36\n",
      "Tek sayı: 59\n",
      "Çift sayı: 48\n",
      "Tek sayı: 75\n",
      "Tek sayı: 61\n"
     ]
    }
   ],
   "source": [
    "for sayı in newList:\n",
    "    if sayı %2 ==0:\n",
    "        print(\"Çift sayı:\", sayı)\n",
    "    else:\n",
    "        print(\"Tek sayı:\", sayı)"
   ]
  },
  {
   "cell_type": "code",
   "execution_count": 19,
   "id": "3fefe2a7",
   "metadata": {},
   "outputs": [
    {
     "name": "stdout",
     "output_type": "stream",
     "text": [
      "Bir sayı giriniz:18\n",
      "Sayınız çift sayı: 18\n"
     ]
    }
   ],
   "source": [
    "sayı = int(input(\"Bir sayı giriniz:\")) \n",
    "if sayı % 2 ==0 :\n",
    "    print(\"Sayınız çift sayı:\",sayı)\n",
    "else:\n",
    "    print(\"Sayınız tek sayı:\",sayı)"
   ]
  },
  {
   "cell_type": "code",
   "execution_count": 20,
   "id": "8a395c15",
   "metadata": {},
   "outputs": [
    {
     "name": "stdout",
     "output_type": "stream",
     "text": [
      "['elma', 'çilek', 'muz']\n",
      "['elma', 'çilek', 'muz']\n",
      "['elma', 'çilek', 'muz']\n"
     ]
    }
   ],
   "source": [
    "meyve = [\"elma\", \"çilek\", \"muz\"]\n",
    "for meyveler in meyve:\n",
    "    print(meyve)"
   ]
  },
  {
   "cell_type": "code",
   "execution_count": 23,
   "id": "ac7a8787",
   "metadata": {},
   "outputs": [],
   "source": [
    "newString = \"Zeliha SEYHAN\""
   ]
  },
  {
   "cell_type": "code",
   "execution_count": 24,
   "id": "f61cfea6",
   "metadata": {},
   "outputs": [
    {
     "name": "stdout",
     "output_type": "stream",
     "text": [
      "Z\n",
      "e\n",
      "l\n",
      "i\n",
      "h\n",
      "a\n",
      " \n",
      "S\n",
      "E\n",
      "Y\n",
      "H\n",
      "A\n",
      "N\n"
     ]
    }
   ],
   "source": [
    "for harf in newString:\n",
    "    print(harf)"
   ]
  },
  {
   "cell_type": "code",
   "execution_count": 27,
   "id": "48665f9c",
   "metadata": {},
   "outputs": [
    {
     "name": "stdout",
     "output_type": "stream",
     "text": [
      "Elmanların karesi: 1\n",
      "Elmanların karesi: 4\n",
      "Elmanların karesi: 9\n",
      "Elmanların karesi: 16\n",
      "Elmanların karesi: 25\n",
      "Elmanların karesi: 36\n"
     ]
    }
   ],
   "source": [
    "myTuple = (1,2,3,4,5,6)\n",
    "\n",
    "for eleman in myTuple:\n",
    "    print(\"Elmanların karesi:\",eleman **2)"
   ]
  },
  {
   "cell_type": "code",
   "execution_count": 29,
   "id": "5a6664ea",
   "metadata": {},
   "outputs": [
    {
     "data": {
      "text/plain": [
       "(32.5, 2.4)"
      ]
     },
     "execution_count": 29,
     "metadata": {},
     "output_type": "execute_result"
    }
   ],
   "source": [
    "listKoordinat = [(15,20.3),(32.5,2.4)]\n",
    "listKoordinat[1]"
   ]
  },
  {
   "cell_type": "code",
   "execution_count": 30,
   "id": "3a131dba",
   "metadata": {},
   "outputs": [
    {
     "data": {
      "text/plain": [
       "tuple"
      ]
     },
     "execution_count": 30,
     "metadata": {},
     "output_type": "execute_result"
    }
   ],
   "source": [
    "listKoordinat = [(15,20.3),(32.5,2.4)]\n",
    "type(listKoordinat[1])"
   ]
  },
  {
   "cell_type": "code",
   "execution_count": 31,
   "id": "42996390",
   "metadata": {},
   "outputs": [
    {
     "name": "stdout",
     "output_type": "stream",
     "text": [
      "(15, 20.3)\n",
      "(32.5, 2.4)\n"
     ]
    }
   ],
   "source": [
    "for koordinat in listKoordinat:\n",
    "    print(koordinat)"
   ]
  },
  {
   "cell_type": "code",
   "execution_count": 32,
   "id": "9886690b",
   "metadata": {},
   "outputs": [
    {
     "name": "stdout",
     "output_type": "stream",
     "text": [
      "15\n",
      "32.5\n"
     ]
    }
   ],
   "source": [
    "for (x,y)in listKoordinat:\n",
    "    print(x)"
   ]
  },
  {
   "cell_type": "code",
   "execution_count": 35,
   "id": "27ad395f",
   "metadata": {},
   "outputs": [
    {
     "name": "stdout",
     "output_type": "stream",
     "text": [
      "20.3\n",
      "2.4\n"
     ]
    }
   ],
   "source": [
    "for (x,y) in listKoordinat:\n",
    "    print(y)"
   ]
  },
  {
   "cell_type": "code",
   "execution_count": 36,
   "id": "7a3cba62",
   "metadata": {},
   "outputs": [],
   "source": [
    "myDic = {\"muz\":150, \"çilek\":200, \"kivi\":250}"
   ]
  },
  {
   "cell_type": "code",
   "execution_count": 39,
   "id": "07d4d2f0",
   "metadata": {},
   "outputs": [
    {
     "data": {
      "text/plain": [
       "dict_items([('muz', 150), ('çilek', 200), ('kivi', 250)])"
      ]
     },
     "execution_count": 39,
     "metadata": {},
     "output_type": "execute_result"
    }
   ],
   "source": [
    "myDic.items()"
   ]
  },
  {
   "cell_type": "code",
   "execution_count": 40,
   "id": "85b2c5b2",
   "metadata": {},
   "outputs": [
    {
     "name": "stdout",
     "output_type": "stream",
     "text": [
      "muz\n",
      "çilek\n",
      "kivi\n"
     ]
    }
   ],
   "source": [
    "for (x, y) in myDic.items():\n",
    "    print(x)"
   ]
  },
  {
   "cell_type": "code",
   "execution_count": 44,
   "id": "44f47531",
   "metadata": {},
   "outputs": [
    {
     "name": "stdout",
     "output_type": "stream",
     "text": [
      "150\n",
      "200\n",
      "250\n"
     ]
    }
   ],
   "source": [
    "for (x,y) in myDic.items(): # .items(): olmadan çalışmıyor\n",
    "    print(y)"
   ]
  },
  {
   "cell_type": "code",
   "execution_count": 45,
   "id": "703b8369",
   "metadata": {},
   "outputs": [],
   "source": [
    "myList = [5,10,15,20,25,30]"
   ]
  },
  {
   "cell_type": "code",
   "execution_count": 46,
   "id": "f16c18a0",
   "metadata": {},
   "outputs": [
    {
     "name": "stdout",
     "output_type": "stream",
     "text": [
      "1.0\n",
      "2.0\n",
      "3.0\n",
      "4.0\n",
      "5.0\n",
      "6.0\n"
     ]
    }
   ],
   "source": [
    "for numb in myList:\n",
    "    print(numb/5)"
   ]
  },
  {
   "cell_type": "code",
   "execution_count": 48,
   "id": "b103a148",
   "metadata": {},
   "outputs": [
    {
     "name": "stdout",
     "output_type": "stream",
     "text": [
      "5\n",
      "10\n",
      "15\n"
     ]
    }
   ],
   "source": [
    "for numb in myList:\n",
    "    if numb ==20: # 20 sayısına geldiğinde döngü biter. 20'den önceki sayıları yazar.\n",
    "        break\n",
    "    print(numb)"
   ]
  },
  {
   "cell_type": "code",
   "execution_count": 50,
   "id": "1c73eeeb",
   "metadata": {},
   "outputs": [
    {
     "name": "stdout",
     "output_type": "stream",
     "text": [
      "5\n",
      "10\n",
      "15\n",
      "25\n",
      "30\n"
     ]
    }
   ],
   "source": [
    "for numb in myList:\n",
    "    if numb ==20: \n",
    "        continue # devam et ve yaz\n",
    "    print(numb)"
   ]
  },
  {
   "cell_type": "code",
   "execution_count": 51,
   "id": "f8fd90af",
   "metadata": {},
   "outputs": [],
   "source": [
    "for numb in myList:\n",
    "    pass"
   ]
  },
  {
   "cell_type": "markdown",
   "id": "29f782d0",
   "metadata": {},
   "source": [
    "# WHILE"
   ]
  },
  {
   "cell_type": "code",
   "execution_count": 57,
   "id": "12e8d221",
   "metadata": {},
   "outputs": [],
   "source": [
    "x = 1"
   ]
  },
  {
   "cell_type": "code",
   "execution_count": 58,
   "id": "a98438b0",
   "metadata": {},
   "outputs": [
    {
     "name": "stdout",
     "output_type": "stream",
     "text": [
      "1\n",
      "2\n",
      "3\n",
      "4\n",
      "5\n",
      "6\n",
      "7\n",
      "8\n"
     ]
    }
   ],
   "source": [
    "while x < 9: \n",
    "    print(x)\n",
    "    x = x+1 # 9'dan küçük sayıları 1 arttırıp yazar. "
   ]
  },
  {
   "cell_type": "code",
   "execution_count": 78,
   "id": "c56dca3e",
   "metadata": {},
   "outputs": [],
   "source": [
    "listem = [2,3,6,5,4]"
   ]
  },
  {
   "cell_type": "code",
   "execution_count": 60,
   "id": "63a6c927",
   "metadata": {},
   "outputs": [
    {
     "data": {
      "text/plain": [
       "4"
      ]
     },
     "execution_count": 60,
     "metadata": {},
     "output_type": "execute_result"
    }
   ],
   "source": [
    "listem.pop()  # son elemanı yazdırır."
   ]
  },
  {
   "cell_type": "code",
   "execution_count": 61,
   "id": "1f041fce",
   "metadata": {},
   "outputs": [
    {
     "data": {
      "text/plain": [
       "[2, 3, 6, 5]"
      ]
     },
     "execution_count": 61,
     "metadata": {},
     "output_type": "execute_result"
    }
   ],
   "source": [
    "listem"
   ]
  },
  {
   "cell_type": "code",
   "execution_count": 80,
   "id": "626acb6a",
   "metadata": {},
   "outputs": [
    {
     "data": {
      "text/plain": [
       "[2, 7]"
      ]
     },
     "execution_count": 80,
     "metadata": {},
     "output_type": "execute_result"
    }
   ],
   "source": [
    "listem.append(7)\n",
    "listem"
   ]
  },
  {
   "cell_type": "code",
   "execution_count": 71,
   "id": "f52873d4",
   "metadata": {},
   "outputs": [
    {
     "data": {
      "text/plain": [
       "[2, 3, 6, 5, 4, 7, 'Z']"
      ]
     },
     "execution_count": 71,
     "metadata": {},
     "output_type": "execute_result"
    }
   ],
   "source": [
    "listem.append(\"Z\")\n",
    "listem"
   ]
  },
  {
   "cell_type": "code",
   "execution_count": 82,
   "id": "3d22e420",
   "metadata": {},
   "outputs": [],
   "source": [
    "while 3 in listem:\n",
    "    print(\"merhaba\")\n",
    "    listem.pop()        #listeden 7,5,6,3 atıldı döngü bitti.\n",
    "    "
   ]
  },
  {
   "cell_type": "code",
   "execution_count": 85,
   "id": "173cb37c",
   "metadata": {},
   "outputs": [
    {
     "name": "stdout",
     "output_type": "stream",
     "text": [
      "1\n",
      "2\n",
      "3\n",
      "4\n",
      "5\n"
     ]
    }
   ],
   "source": [
    "sayım = 1\n",
    "while sayım < 8:\n",
    "    if sayım ==6 :\n",
    "        break\n",
    "    print(sayım)\n",
    "    sayım = sayım+1"
   ]
  },
  {
   "cell_type": "code",
   "execution_count": 86,
   "id": "31953308",
   "metadata": {},
   "outputs": [
    {
     "name": "stdout",
     "output_type": "stream",
     "text": [
      "guncel degeriniz:2\n",
      "guncel degeriniz:3\n",
      "guncel degeriniz:4\n",
      "guncel degeriniz:5\n"
     ]
    }
   ],
   "source": [
    "newDegisken = 2\n",
    "while newDegisken < 6:\n",
    "    print(\"guncel degeriniz:\" + str(newDegisken))\n",
    "    newDegisken = newDegisken +1 "
   ]
  },
  {
   "cell_type": "code",
   "execution_count": 87,
   "id": "e10f9158",
   "metadata": {},
   "outputs": [
    {
     "name": "stdout",
     "output_type": "stream",
     "text": [
      "guncel degeriniz: 2\n",
      "guncel degeriniz: 3\n",
      "guncel degeriniz: 4\n",
      "guncel degeriniz: 5\n"
     ]
    }
   ],
   "source": [
    "newDegisken = 2\n",
    "while newDegisken < 6:\n",
    "    print(\"guncel degeriniz:\" ,newDegisken)\n",
    "    newDegisken = newDegisken +1 "
   ]
  },
  {
   "cell_type": "code",
   "execution_count": 88,
   "id": "710112f1",
   "metadata": {},
   "outputs": [
    {
     "name": "stdout",
     "output_type": "stream",
     "text": [
      "guncel degeriniz: 2\n",
      "guncel degeriniz: 3\n",
      "guncel degeriniz: 4\n",
      "guncel degeriniz: 5\n"
     ]
    }
   ],
   "source": [
    "newDegisken = 2\n",
    "while newDegisken < 6:\n",
    "    print(f\"guncel degeriniz: {newDegisken}\")\n",
    "    newDegisken = newDegisken +1 "
   ]
  },
  {
   "cell_type": "code",
   "execution_count": 89,
   "id": "5467f7e9",
   "metadata": {},
   "outputs": [
    {
     "name": "stdout",
     "output_type": "stream",
     "text": [
      "aaa3 89\n"
     ]
    }
   ],
   "source": [
    "print(\"aaa{} {}\".format(3,89))"
   ]
  },
  {
   "cell_type": "code",
   "execution_count": null,
   "id": "fe0cfc6a",
   "metadata": {},
   "outputs": [],
   "source": []
  }
 ],
 "metadata": {
  "kernelspec": {
   "display_name": "Python 3 (ipykernel)",
   "language": "python",
   "name": "python3"
  },
  "language_info": {
   "codemirror_mode": {
    "name": "ipython",
    "version": 3
   },
   "file_extension": ".py",
   "mimetype": "text/x-python",
   "name": "python",
   "nbconvert_exporter": "python",
   "pygments_lexer": "ipython3",
   "version": "3.9.7"
  }
 },
 "nbformat": 4,
 "nbformat_minor": 5
}
