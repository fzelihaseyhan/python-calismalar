{
 "cells": [
  {
   "cell_type": "markdown",
   "id": "c7220998",
   "metadata": {},
   "source": [
    "# Variables(Değişkenler)"
   ]
  },
  {
   "cell_type": "code",
   "execution_count": 1,
   "id": "f154dbd7",
   "metadata": {},
   "outputs": [
    {
     "data": {
      "text/plain": [
       "35"
      ]
     },
     "execution_count": 1,
     "metadata": {},
     "output_type": "execute_result"
    }
   ],
   "source": [
    "5*7\n",
    "#print(5*4)\n"
   ]
  },
  {
   "cell_type": "code",
   "execution_count": 2,
   "id": "82b87df6",
   "metadata": {},
   "outputs": [
    {
     "data": {
      "text/plain": [
       "20"
      ]
     },
     "execution_count": 2,
     "metadata": {},
     "output_type": "execute_result"
    }
   ],
   "source": [
    "x = 5\n",
    "y = 4\n",
    "x*y"
   ]
  },
  {
   "cell_type": "code",
   "execution_count": 3,
   "id": "b5e79b2d",
   "metadata": {},
   "outputs": [
    {
     "data": {
      "text/plain": [
       "5"
      ]
     },
     "execution_count": 3,
     "metadata": {},
     "output_type": "execute_result"
    }
   ],
   "source": [
    "x"
   ]
  },
  {
   "cell_type": "code",
   "execution_count": 4,
   "id": "9d84b178",
   "metadata": {},
   "outputs": [
    {
     "data": {
      "text/plain": [
       "42"
      ]
     },
     "execution_count": 4,
     "metadata": {},
     "output_type": "execute_result"
    }
   ],
   "source": [
    "x = 6\n",
    "y = 7\n",
    "x*y"
   ]
  },
  {
   "cell_type": "code",
   "execution_count": 5,
   "id": "ad5d8358",
   "metadata": {},
   "outputs": [
    {
     "data": {
      "text/plain": [
       "70"
      ]
     },
     "execution_count": 5,
     "metadata": {},
     "output_type": "execute_result"
    }
   ],
   "source": [
    "y * 10\n"
   ]
  },
  {
   "cell_type": "code",
   "execution_count": 6,
   "id": "fe6e026d",
   "metadata": {},
   "outputs": [
    {
     "data": {
      "text/plain": [
       "6"
      ]
     },
     "execution_count": 6,
     "metadata": {},
     "output_type": "execute_result"
    }
   ],
   "source": [
    "x"
   ]
  },
  {
   "cell_type": "code",
   "execution_count": 7,
   "id": "5a12042d",
   "metadata": {},
   "outputs": [],
   "source": [
    "variable_1 = 10\n",
    "variable_2 = 20\n",
    "\n"
   ]
  },
  {
   "cell_type": "code",
   "execution_count": 8,
   "id": "a31b38e5",
   "metadata": {},
   "outputs": [
    {
     "data": {
      "text/plain": [
       "30"
      ]
     },
     "execution_count": 8,
     "metadata": {},
     "output_type": "execute_result"
    }
   ],
   "source": [
    "variable_1 + variable_2"
   ]
  },
  {
   "cell_type": "code",
   "execution_count": 9,
   "id": "381e0a53",
   "metadata": {},
   "outputs": [
    {
     "data": {
      "text/plain": [
       "int"
      ]
     },
     "execution_count": 9,
     "metadata": {},
     "output_type": "execute_result"
    }
   ],
   "source": [
    "type(variable_1)"
   ]
  },
  {
   "cell_type": "code",
   "execution_count": 10,
   "id": "61feb5d2",
   "metadata": {},
   "outputs": [
    {
     "data": {
      "text/plain": [
       "2.0"
      ]
     },
     "execution_count": 10,
     "metadata": {},
     "output_type": "execute_result"
    }
   ],
   "source": [
    "c = variable_2 / variable_1\n",
    "c"
   ]
  },
  {
   "cell_type": "code",
   "execution_count": 11,
   "id": "e9b8518d",
   "metadata": {},
   "outputs": [
    {
     "data": {
      "text/plain": [
       "float"
      ]
     },
     "execution_count": 11,
     "metadata": {},
     "output_type": "execute_result"
    }
   ],
   "source": [
    "type(c)"
   ]
  },
  {
   "cell_type": "code",
   "execution_count": 12,
   "id": "b265bc80",
   "metadata": {},
   "outputs": [
    {
     "data": {
      "text/plain": [
       "15.700000000000001"
      ]
     },
     "execution_count": 12,
     "metadata": {},
     "output_type": "execute_result"
    }
   ],
   "source": [
    "a = 5\n",
    "pi = 3.14\n",
    "a*pi"
   ]
  },
  {
   "cell_type": "code",
   "execution_count": 13,
   "id": "b09b891a",
   "metadata": {},
   "outputs": [
    {
     "data": {
      "text/plain": [
       "1.592356687898089"
      ]
     },
     "execution_count": 13,
     "metadata": {},
     "output_type": "execute_result"
    }
   ],
   "source": [
    "a/pi"
   ]
  },
  {
   "cell_type": "code",
   "execution_count": 14,
   "id": "62ed9107",
   "metadata": {},
   "outputs": [
    {
     "data": {
      "text/plain": [
       "float"
      ]
     },
     "execution_count": 14,
     "metadata": {},
     "output_type": "execute_result"
    }
   ],
   "source": [
    "type(a*pi)"
   ]
  },
  {
   "cell_type": "code",
   "execution_count": 15,
   "id": "1ca1973c",
   "metadata": {},
   "outputs": [
    {
     "data": {
      "text/plain": [
       "500"
      ]
     },
     "execution_count": 15,
     "metadata": {},
     "output_type": "execute_result"
    }
   ],
   "source": [
    "x = 5\n",
    "y = 10\n",
    "x*y*10"
   ]
  },
  {
   "cell_type": "code",
   "execution_count": 16,
   "id": "d95d42fb",
   "metadata": {},
   "outputs": [
    {
     "data": {
      "text/plain": [
       "625"
      ]
     },
     "execution_count": 16,
     "metadata": {},
     "output_type": "execute_result"
    }
   ],
   "source": [
    "x**4"
   ]
  },
  {
   "cell_type": "code",
   "execution_count": 18,
   "id": "2502506e",
   "metadata": {},
   "outputs": [
    {
     "data": {
      "text/plain": [
       "1"
      ]
     },
     "execution_count": 18,
     "metadata": {},
     "output_type": "execute_result"
    }
   ],
   "source": [
    "10%3 # Remainder - Kalanını bulmak"
   ]
  },
  {
   "cell_type": "code",
   "execution_count": 19,
   "id": "1feef2c9",
   "metadata": {},
   "outputs": [
    {
     "data": {
      "text/plain": [
       "0"
      ]
     },
     "execution_count": 19,
     "metadata": {},
     "output_type": "execute_result"
    }
   ],
   "source": [
    "20 % 3\n",
    "30 % 2"
   ]
  },
  {
   "cell_type": "code",
   "execution_count": 20,
   "id": "ac6fd4a1",
   "metadata": {},
   "outputs": [],
   "source": [
    "#camelCase  \n",
    "#snake_case"
   ]
  },
  {
   "cell_type": "code",
   "execution_count": 21,
   "id": "1e150ec0",
   "metadata": {},
   "outputs": [],
   "source": [
    "yasKullanici = 10\n"
   ]
  },
  {
   "cell_type": "code",
   "execution_count": 22,
   "id": "7e4cbdde",
   "metadata": {},
   "outputs": [
    {
     "data": {
      "text/plain": [
       "50"
      ]
     },
     "execution_count": 22,
     "metadata": {},
     "output_type": "execute_result"
    }
   ],
   "source": [
    "yasKullanici * 5"
   ]
  },
  {
   "cell_type": "code",
   "execution_count": 23,
   "id": "290889d3",
   "metadata": {},
   "outputs": [
    {
     "data": {
      "text/plain": [
       "int"
      ]
     },
     "execution_count": 23,
     "metadata": {},
     "output_type": "execute_result"
    }
   ],
   "source": [
    "type(yasKullanici)"
   ]
  },
  {
   "cell_type": "code",
   "execution_count": 24,
   "id": "01d9b6e2",
   "metadata": {},
   "outputs": [
    {
     "name": "stdout",
     "output_type": "stream",
     "text": [
      "yasinizi giriniz:45\n"
     ]
    }
   ],
   "source": [
    "kullanicininYasi = input(\"yasinizi giriniz:\")"
   ]
  },
  {
   "cell_type": "code",
   "execution_count": 25,
   "id": "33be5870",
   "metadata": {},
   "outputs": [
    {
     "data": {
      "text/plain": [
       "'45'"
      ]
     },
     "execution_count": 25,
     "metadata": {},
     "output_type": "execute_result"
    }
   ],
   "source": [
    "kullanicininYasi"
   ]
  },
  {
   "cell_type": "code",
   "execution_count": 26,
   "id": "88dd335c",
   "metadata": {},
   "outputs": [
    {
     "data": {
      "text/plain": [
       "str"
      ]
     },
     "execution_count": 26,
     "metadata": {},
     "output_type": "execute_result"
    }
   ],
   "source": [
    "type(kullanicininYasi)"
   ]
  },
  {
   "cell_type": "code",
   "execution_count": 27,
   "id": "b76624ad",
   "metadata": {},
   "outputs": [
    {
     "data": {
      "text/plain": [
       "'4545454545'"
      ]
     },
     "execution_count": 27,
     "metadata": {},
     "output_type": "execute_result"
    }
   ],
   "source": [
    "kullanicininYasi * 5 # string algıladığı için yan yana 5 tane yazar."
   ]
  },
  {
   "cell_type": "code",
   "execution_count": 29,
   "id": "7b999853",
   "metadata": {},
   "outputs": [],
   "source": [
    "x = \"Hello world!\""
   ]
  },
  {
   "cell_type": "code",
   "execution_count": 30,
   "id": "ba0430e0",
   "metadata": {},
   "outputs": [
    {
     "data": {
      "text/plain": [
       "str"
      ]
     },
     "execution_count": 30,
     "metadata": {},
     "output_type": "execute_result"
    }
   ],
   "source": [
    "type(x)"
   ]
  },
  {
   "cell_type": "code",
   "execution_count": 32,
   "id": "d86d08be",
   "metadata": {},
   "outputs": [
    {
     "data": {
      "text/plain": [
       "['Hello', 'world!']"
      ]
     },
     "execution_count": 32,
     "metadata": {},
     "output_type": "execute_result"
    }
   ],
   "source": [
    "x.split() # kelimeleri ayırır."
   ]
  },
  {
   "cell_type": "code",
   "execution_count": 33,
   "id": "6f717fd3",
   "metadata": {},
   "outputs": [],
   "source": [
    "string = \"zeliha\"\n"
   ]
  },
  {
   "cell_type": "code",
   "execution_count": 55,
   "id": "babacb75",
   "metadata": {},
   "outputs": [
    {
     "data": {
      "text/plain": [
       "'zelihaHello, world!'"
      ]
     },
     "execution_count": 55,
     "metadata": {},
     "output_type": "execute_result"
    }
   ],
   "source": [
    "string + x"
   ]
  },
  {
   "cell_type": "code",
   "execution_count": 56,
   "id": "cd656e13",
   "metadata": {},
   "outputs": [
    {
     "data": {
      "text/plain": [
       "'zelihazelihazelihazeliha'"
      ]
     },
     "execution_count": 56,
     "metadata": {},
     "output_type": "execute_result"
    }
   ],
   "source": [
    "string * 4"
   ]
  },
  {
   "cell_type": "code",
   "execution_count": 35,
   "id": "99474d42",
   "metadata": {},
   "outputs": [
    {
     "name": "stdout",
     "output_type": "stream",
     "text": [
      "Yasinizi giriniz:23\n"
     ]
    }
   ],
   "source": [
    "input_1 = input(\"Yasinizi giriniz:\")"
   ]
  },
  {
   "cell_type": "code",
   "execution_count": 36,
   "id": "9c35ae5c",
   "metadata": {},
   "outputs": [
    {
     "data": {
      "text/plain": [
       "str"
      ]
     },
     "execution_count": 36,
     "metadata": {},
     "output_type": "execute_result"
    }
   ],
   "source": [
    "type(input_1)"
   ]
  },
  {
   "cell_type": "code",
   "execution_count": 37,
   "id": "ae56c919",
   "metadata": {},
   "outputs": [],
   "source": [
    "input_1 = int(input_1)"
   ]
  },
  {
   "cell_type": "code",
   "execution_count": 38,
   "id": "35cd2f66",
   "metadata": {},
   "outputs": [
    {
     "data": {
      "text/plain": [
       "int"
      ]
     },
     "execution_count": 38,
     "metadata": {},
     "output_type": "execute_result"
    }
   ],
   "source": [
    "type(input_1)"
   ]
  },
  {
   "cell_type": "code",
   "execution_count": 39,
   "id": "83402f7a",
   "metadata": {},
   "outputs": [
    {
     "data": {
      "text/plain": [
       "38.333333333333336"
      ]
     },
     "execution_count": 39,
     "metadata": {},
     "output_type": "execute_result"
    }
   ],
   "source": [
    "input_1 * 5 / 3 "
   ]
  },
  {
   "cell_type": "code",
   "execution_count": 41,
   "id": "bee3e0a5",
   "metadata": {},
   "outputs": [
    {
     "data": {
      "text/plain": [
       "6"
      ]
     },
     "execution_count": 41,
     "metadata": {},
     "output_type": "execute_result"
    }
   ],
   "source": [
    "a = \"SEYHAN\"\n",
    "len(a) # boyut bilgisi için kullanılır"
   ]
  },
  {
   "cell_type": "code",
   "execution_count": 42,
   "id": "73ee7680",
   "metadata": {},
   "outputs": [
    {
     "name": "stdout",
     "output_type": "stream",
     "text": [
      "Zeliha \n",
      "SEYHAN\n"
     ]
    }
   ],
   "source": [
    "print(\"Zeliha \\nSEYHAN\")"
   ]
  },
  {
   "cell_type": "code",
   "execution_count": 43,
   "id": "314f04c7",
   "metadata": {},
   "outputs": [],
   "source": [
    "isim = \"Zeliha SEYHAN\""
   ]
  },
  {
   "cell_type": "code",
   "execution_count": 44,
   "id": "fb33bc5e",
   "metadata": {},
   "outputs": [
    {
     "data": {
      "text/plain": [
       "'Zeliha SEYHAN'"
      ]
     },
     "execution_count": 44,
     "metadata": {},
     "output_type": "execute_result"
    }
   ],
   "source": [
    "isim"
   ]
  },
  {
   "cell_type": "code",
   "execution_count": 45,
   "id": "cf51e690",
   "metadata": {},
   "outputs": [
    {
     "data": {
      "text/plain": [
       "'E'"
      ]
     },
     "execution_count": 45,
     "metadata": {},
     "output_type": "execute_result"
    }
   ],
   "source": [
    "isim[8]"
   ]
  },
  {
   "cell_type": "code",
   "execution_count": 46,
   "id": "08d6f173",
   "metadata": {},
   "outputs": [
    {
     "data": {
      "text/plain": [
       "'N'"
      ]
     },
     "execution_count": 46,
     "metadata": {},
     "output_type": "execute_result"
    }
   ],
   "source": [
    "isim[-1]     #son eleman verir"
   ]
  },
  {
   "cell_type": "code",
   "execution_count": 47,
   "id": "a6f6af8b",
   "metadata": {},
   "outputs": [
    {
     "data": {
      "text/plain": [
       "'A'"
      ]
     },
     "execution_count": 47,
     "metadata": {},
     "output_type": "execute_result"
    }
   ],
   "source": [
    "isim[-2]"
   ]
  },
  {
   "cell_type": "code",
   "execution_count": 48,
   "id": "14311117",
   "metadata": {},
   "outputs": [
    {
     "data": {
      "text/plain": [
       "'lih'"
      ]
     },
     "execution_count": 48,
     "metadata": {},
     "output_type": "execute_result"
    }
   ],
   "source": [
    "isim[2:5]"
   ]
  },
  {
   "cell_type": "code",
   "execution_count": 49,
   "id": "6c2689cd",
   "metadata": {},
   "outputs": [],
   "source": [
    "newString = \"1562262562\""
   ]
  },
  {
   "cell_type": "code",
   "execution_count": 50,
   "id": "d7630cee",
   "metadata": {},
   "outputs": [
    {
     "data": {
      "text/plain": [
       "'156'"
      ]
     },
     "execution_count": 50,
     "metadata": {},
     "output_type": "execute_result"
    }
   ],
   "source": [
    "newString[:3]"
   ]
  },
  {
   "cell_type": "code",
   "execution_count": 51,
   "id": "3949d9bf",
   "metadata": {},
   "outputs": [
    {
     "data": {
      "text/plain": [
       "'2262562'"
      ]
     },
     "execution_count": 51,
     "metadata": {},
     "output_type": "execute_result"
    }
   ],
   "source": [
    "newString[3:]"
   ]
  },
  {
   "cell_type": "markdown",
   "id": "ba4a96fa",
   "metadata": {},
   "source": [
    "# Slicing"
   ]
  },
  {
   "cell_type": "code",
   "execution_count": 52,
   "id": "64618530",
   "metadata": {},
   "outputs": [],
   "source": [
    "gelenVeri = \"Zelihanin yasi65\""
   ]
  },
  {
   "cell_type": "code",
   "execution_count": 53,
   "id": "3d087512",
   "metadata": {},
   "outputs": [
    {
     "data": {
      "text/plain": [
       "'65'"
      ]
     },
     "execution_count": 53,
     "metadata": {},
     "output_type": "execute_result"
    }
   ],
   "source": [
    "gelenVeri[-2:]"
   ]
  },
  {
   "cell_type": "code",
   "execution_count": 54,
   "id": "3e08b70b",
   "metadata": {},
   "outputs": [
    {
     "data": {
      "text/plain": [
       "'el'"
      ]
     },
     "execution_count": 54,
     "metadata": {},
     "output_type": "execute_result"
    }
   ],
   "source": [
    "gelenVeri[1:3]"
   ]
  },
  {
   "cell_type": "code",
   "execution_count": 56,
   "id": "00362fac",
   "metadata": {},
   "outputs": [
    {
     "data": {
      "text/plain": [
       "'Zelihanin yasi65'"
      ]
     },
     "execution_count": 56,
     "metadata": {},
     "output_type": "execute_result"
    }
   ],
   "source": [
    "gelenVeri[::] # #Step Size"
   ]
  },
  {
   "cell_type": "code",
   "execution_count": 57,
   "id": "5898898e",
   "metadata": {},
   "outputs": [
    {
     "data": {
      "text/plain": [
       "'Zin s5'"
      ]
     },
     "execution_count": 57,
     "metadata": {},
     "output_type": "execute_result"
    }
   ],
   "source": [
    "gelenVeri[::3]"
   ]
  },
  {
   "cell_type": "code",
   "execution_count": 58,
   "id": "d4624b19",
   "metadata": {},
   "outputs": [
    {
     "data": {
      "text/plain": [
       "'56isay ninahileZ'"
      ]
     },
     "execution_count": 58,
     "metadata": {},
     "output_type": "execute_result"
    }
   ],
   "source": [
    "gelenVeri[::-1]  # tersten yazma işlemi yapar"
   ]
  },
  {
   "cell_type": "code",
   "execution_count": 59,
   "id": "4660b15e",
   "metadata": {},
   "outputs": [],
   "source": [
    "benimIsmim = \"zeliha\""
   ]
  },
  {
   "cell_type": "code",
   "execution_count": 60,
   "id": "c95e1394",
   "metadata": {},
   "outputs": [
    {
     "data": {
      "text/plain": [
       "'Zeliha'"
      ]
     },
     "execution_count": 60,
     "metadata": {},
     "output_type": "execute_result"
    }
   ],
   "source": [
    "benimIsmim.capitalize()   #İlk harf büyük yazar."
   ]
  },
  {
   "cell_type": "code",
   "execution_count": 61,
   "id": "6eb73821",
   "metadata": {},
   "outputs": [
    {
     "data": {
      "text/plain": [
       "'zeliha'"
      ]
     },
     "execution_count": 61,
     "metadata": {},
     "output_type": "execute_result"
    }
   ],
   "source": [
    "benimIsmim"
   ]
  },
  {
   "cell_type": "code",
   "execution_count": 62,
   "id": "1a125ec5",
   "metadata": {},
   "outputs": [
    {
     "data": {
      "text/plain": [
       "'Zeliha'"
      ]
     },
     "execution_count": 62,
     "metadata": {},
     "output_type": "execute_result"
    }
   ],
   "source": [
    "yeniIsmim = benimIsmim.capitalize()\n",
    "yeniIsmim"
   ]
  },
  {
   "cell_type": "code",
   "execution_count": 65,
   "id": "570fba67",
   "metadata": {},
   "outputs": [
    {
     "data": {
      "text/plain": [
       "['Fadime', 'Zeliha', 'SEYHAN']"
      ]
     },
     "execution_count": 65,
     "metadata": {},
     "output_type": "execute_result"
    }
   ],
   "source": [
    "tamIsmim = \" Fadime Zeliha SEYHAN\"\n",
    "tamIsmim.split()"
   ]
  },
  {
   "cell_type": "code",
   "execution_count": 66,
   "id": "74dcce74",
   "metadata": {},
   "outputs": [
    {
     "data": {
      "text/plain": [
       "list"
      ]
     },
     "execution_count": 66,
     "metadata": {},
     "output_type": "execute_result"
    }
   ],
   "source": [
    "type(tamIsmim.split())"
   ]
  },
  {
   "cell_type": "code",
   "execution_count": 67,
   "id": "f047e7ec",
   "metadata": {},
   "outputs": [],
   "source": [
    "listeler = tamIsmim.split()"
   ]
  },
  {
   "cell_type": "code",
   "execution_count": 68,
   "id": "db59b9ad",
   "metadata": {},
   "outputs": [
    {
     "data": {
      "text/plain": [
       "'Fadime'"
      ]
     },
     "execution_count": 68,
     "metadata": {},
     "output_type": "execute_result"
    }
   ],
   "source": [
    "listeler[0]"
   ]
  },
  {
   "cell_type": "code",
   "execution_count": 69,
   "id": "2904d80a",
   "metadata": {},
   "outputs": [
    {
     "data": {
      "text/plain": [
       "' FADIME ZELIHA SEYHAN'"
      ]
     },
     "execution_count": 69,
     "metadata": {},
     "output_type": "execute_result"
    }
   ],
   "source": [
    "tamIsmim.upper() # Tüm harfler büyük"
   ]
  },
  {
   "cell_type": "code",
   "execution_count": 71,
   "id": "0728a728",
   "metadata": {},
   "outputs": [
    {
     "data": {
      "text/plain": [
       "' fadime zeliha seyhan'"
      ]
     },
     "execution_count": 71,
     "metadata": {},
     "output_type": "execute_result"
    }
   ],
   "source": [
    "tamIsmim.lower()"
   ]
  },
  {
   "cell_type": "code",
   "execution_count": 72,
   "id": "cd863658",
   "metadata": {},
   "outputs": [
    {
     "data": {
      "text/plain": [
       "' Fadime Zeliha SEYHAN dır'"
      ]
     },
     "execution_count": 72,
     "metadata": {},
     "output_type": "execute_result"
    }
   ],
   "source": [
    "tamIsmim + \" dır\""
   ]
  },
  {
   "cell_type": "code",
   "execution_count": 140,
   "id": "ee44fda5",
   "metadata": {},
   "outputs": [
    {
     "data": {
      "text/plain": [
       "'510'"
      ]
     },
     "execution_count": 140,
     "metadata": {},
     "output_type": "execute_result"
    }
   ],
   "source": [
    "a = \"5\"\n",
    "b = \"10\"\n",
    "a + b    # string verildiği için"
   ]
  }
 ],
 "metadata": {
  "kernelspec": {
   "display_name": "Python 3 (ipykernel)",
   "language": "python",
   "name": "python3"
  },
  "language_info": {
   "codemirror_mode": {
    "name": "ipython",
    "version": 3
   },
   "file_extension": ".py",
   "mimetype": "text/x-python",
   "name": "python",
   "nbconvert_exporter": "python",
   "pygments_lexer": "ipython3",
   "version": "3.9.7"
  }
 },
 "nbformat": 4,
 "nbformat_minor": 5
}
