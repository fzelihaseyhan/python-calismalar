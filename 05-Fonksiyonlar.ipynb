{
 "cells": [
  {
   "cell_type": "code",
   "execution_count": 1,
   "id": "9dfddfa9",
   "metadata": {},
   "outputs": [],
   "source": [
    "myName = \"Zeliha Seyhan\""
   ]
  },
  {
   "cell_type": "code",
   "execution_count": 2,
   "id": "347e1fbe",
   "metadata": {},
   "outputs": [
    {
     "data": {
      "text/plain": [
       "'ZELIHA SEYHAN'"
      ]
     },
     "execution_count": 2,
     "metadata": {},
     "output_type": "execute_result"
    }
   ],
   "source": [
    "myName.upper() # tüm elemanlar büyük harfle yazıldı."
   ]
  },
  {
   "cell_type": "code",
   "execution_count": 3,
   "id": "46462ff8",
   "metadata": {},
   "outputs": [],
   "source": [
    "yeni = myName.upper()"
   ]
  },
  {
   "cell_type": "code",
   "execution_count": 4,
   "id": "58efd87c",
   "metadata": {},
   "outputs": [
    {
     "data": {
      "text/plain": [
       "'ZELIHA SEYHAN'"
      ]
     },
     "execution_count": 4,
     "metadata": {},
     "output_type": "execute_result"
    }
   ],
   "source": [
    "yeni"
   ]
  },
  {
   "cell_type": "code",
   "execution_count": 5,
   "id": "ed60e5e3",
   "metadata": {},
   "outputs": [
    {
     "data": {
      "text/plain": [
       "'Zeliha Seyhan'"
      ]
     },
     "execution_count": 5,
     "metadata": {},
     "output_type": "execute_result"
    }
   ],
   "source": [
    "myName"
   ]
  },
  {
   "cell_type": "code",
   "execution_count": 6,
   "id": "4a5ff5e7",
   "metadata": {},
   "outputs": [],
   "source": [
    "def ilkFonksiyon():\n",
    "    print(\"ilk fonksiyonum:\")"
   ]
  },
  {
   "cell_type": "code",
   "execution_count": 7,
   "id": "d82b19b8",
   "metadata": {},
   "outputs": [
    {
     "name": "stdout",
     "output_type": "stream",
     "text": [
      "ilk fonksiyonum:\n"
     ]
    }
   ],
   "source": [
    "ilkFonksiyon()"
   ]
  },
  {
   "cell_type": "markdown",
   "id": "8c5908f1",
   "metadata": {},
   "source": [
    "# input & return"
   ]
  },
  {
   "cell_type": "code",
   "execution_count": 8,
   "id": "da75abe8",
   "metadata": {},
   "outputs": [],
   "source": [
    "def helloWorld(yazdırılacakIsim):\n",
    "    print(\"merhaba dunya\")\n",
    "    print(yazdırılacakIsim)"
   ]
  },
  {
   "cell_type": "code",
   "execution_count": 9,
   "id": "58512b2d",
   "metadata": {},
   "outputs": [
    {
     "name": "stdout",
     "output_type": "stream",
     "text": [
      "merhaba dunya\n",
      "zeliha\n"
     ]
    }
   ],
   "source": [
    "helloWorld(\"zeliha\")"
   ]
  },
  {
   "cell_type": "code",
   "execution_count": 18,
   "id": "3170c56a",
   "metadata": {},
   "outputs": [],
   "source": [
    "def merhaba(isim = \"zeliha\"):\n",
    "    print(\"merhaba\")\n",
    "    print(isim)"
   ]
  },
  {
   "cell_type": "code",
   "execution_count": 19,
   "id": "767b94ab",
   "metadata": {},
   "outputs": [
    {
     "name": "stdout",
     "output_type": "stream",
     "text": [
      "merhaba\n",
      "zeliha\n"
     ]
    }
   ],
   "source": [
    "merhaba()"
   ]
  },
  {
   "cell_type": "code",
   "execution_count": 20,
   "id": "6ff3e43d",
   "metadata": {},
   "outputs": [
    {
     "name": "stdout",
     "output_type": "stream",
     "text": [
      "merhaba\n",
      "python\n"
     ]
    }
   ],
   "source": [
    "merhaba(\"python\")"
   ]
  },
  {
   "cell_type": "code",
   "execution_count": 21,
   "id": "1f0be039",
   "metadata": {},
   "outputs": [],
   "source": [
    "def toplama(numara1,numara2):\n",
    "    sonuc = numara1 + numara2\n",
    "    print(sonuc)"
   ]
  },
  {
   "cell_type": "code",
   "execution_count": 23,
   "id": "98711f7c",
   "metadata": {},
   "outputs": [
    {
     "name": "stdout",
     "output_type": "stream",
     "text": [
      "90\n"
     ]
    }
   ],
   "source": [
    "toplama(-110,200)"
   ]
  },
  {
   "cell_type": "code",
   "execution_count": 27,
   "id": "6881220d",
   "metadata": {},
   "outputs": [],
   "source": [
    "def superToplama(num1,num2,num3):\n",
    "    print(num1+num2+num3)"
   ]
  },
  {
   "cell_type": "code",
   "execution_count": 28,
   "id": "c55b96be",
   "metadata": {},
   "outputs": [
    {
     "name": "stdout",
     "output_type": "stream",
     "text": [
      "72\n"
     ]
    }
   ],
   "source": [
    "superToplama(26,36,10)"
   ]
  },
  {
   "cell_type": "code",
   "execution_count": 29,
   "id": "e308022f",
   "metadata": {},
   "outputs": [
    {
     "name": "stdout",
     "output_type": "stream",
     "text": [
      "50\n"
     ]
    }
   ],
   "source": [
    "yeniDegisken = toplama(20,30)"
   ]
  },
  {
   "cell_type": "code",
   "execution_count": 31,
   "id": "caed14fd",
   "metadata": {},
   "outputs": [
    {
     "data": {
      "text/plain": [
       "NoneType"
      ]
     },
     "execution_count": 31,
     "metadata": {},
     "output_type": "execute_result"
    }
   ],
   "source": [
    "type(yeniDegisken)"
   ]
  },
  {
   "cell_type": "code",
   "execution_count": 32,
   "id": "f1f1f265",
   "metadata": {},
   "outputs": [],
   "source": [
    "def dondurmeliToplama(num1, num2):\n",
    "    return num1 + num2"
   ]
  },
  {
   "cell_type": "code",
   "execution_count": 34,
   "id": "dee8c170",
   "metadata": {},
   "outputs": [],
   "source": [
    "yeniSonuc = dondurmeliToplama(20,30)"
   ]
  },
  {
   "cell_type": "code",
   "execution_count": 35,
   "id": "0c5fded5",
   "metadata": {},
   "outputs": [
    {
     "data": {
      "text/plain": [
       "50"
      ]
     },
     "execution_count": 35,
     "metadata": {},
     "output_type": "execute_result"
    }
   ],
   "source": [
    "yeniSonuc"
   ]
  },
  {
   "cell_type": "code",
   "execution_count": 3,
   "id": "703704b9",
   "metadata": {},
   "outputs": [],
   "source": [
    "def kontrolFonk (s):\n",
    "    if s == \"zeliha\":\n",
    "        print(\"verdiğiniz string zeliha\")\n",
    "    else:\n",
    "        print(\"başka bir şey\")"
   ]
  },
  {
   "cell_type": "code",
   "execution_count": 4,
   "id": "9950ef2e",
   "metadata": {},
   "outputs": [
    {
     "name": "stdout",
     "output_type": "stream",
     "text": [
      "verdiğiniz string zeliha\n"
     ]
    }
   ],
   "source": [
    "kontrolFonk(\"zeliha\")"
   ]
  },
  {
   "cell_type": "code",
   "execution_count": 5,
   "id": "67835b8e",
   "metadata": {},
   "outputs": [
    {
     "name": "stdout",
     "output_type": "stream",
     "text": [
      "başka bir şey\n"
     ]
    }
   ],
   "source": [
    "kontrolFonk(\"python\")"
   ]
  },
  {
   "cell_type": "markdown",
   "id": "2274d8e9",
   "metadata": {},
   "source": [
    "# args&kwargs"
   ]
  },
  {
   "cell_type": "code",
   "execution_count": 6,
   "id": "8238a32e",
   "metadata": {},
   "outputs": [],
   "source": [
    "def yeniToplama(*args):  # \"*\" sayısız argüman alır\n",
    "    return sum(args)"
   ]
  },
  {
   "cell_type": "code",
   "execution_count": 7,
   "id": "9cc12dfe",
   "metadata": {},
   "outputs": [
    {
     "data": {
      "text/plain": [
       "116"
      ]
     },
     "execution_count": 7,
     "metadata": {},
     "output_type": "execute_result"
    }
   ],
   "source": [
    "yeniToplama(10,20,30,56)"
   ]
  },
  {
   "cell_type": "code",
   "execution_count": 8,
   "id": "b701e1ad",
   "metadata": {},
   "outputs": [
    {
     "data": {
      "text/plain": [
       "40"
      ]
     },
     "execution_count": 8,
     "metadata": {},
     "output_type": "execute_result"
    }
   ],
   "source": [
    "yeniToplama(10,30)"
   ]
  },
  {
   "cell_type": "code",
   "execution_count": 12,
   "id": "242db331",
   "metadata": {},
   "outputs": [],
   "source": [
    "def myFunc(*args):\n",
    "    return(args)      #tuple döndürür argümanları almak için"
   ]
  },
  {
   "cell_type": "code",
   "execution_count": 13,
   "id": "a8119b43",
   "metadata": {},
   "outputs": [
    {
     "data": {
      "text/plain": [
       "tuple"
      ]
     },
     "execution_count": 13,
     "metadata": {},
     "output_type": "execute_result"
    }
   ],
   "source": [
    "type(myFunc(20,30,40))"
   ]
  },
  {
   "cell_type": "code",
   "execution_count": 14,
   "id": "331799e0",
   "metadata": {},
   "outputs": [],
   "source": [
    "def ornekFonksiyon(**kwargs):\n",
    "    print(kwargs)"
   ]
  },
  {
   "cell_type": "code",
   "execution_count": 16,
   "id": "4863a9ed",
   "metadata": {},
   "outputs": [
    {
     "name": "stdout",
     "output_type": "stream",
     "text": [
      "{'muz': 100, 'çilek': 50, 'elma': 60}\n"
     ]
    }
   ],
   "source": [
    "ornekFonksiyon(muz=100,çilek=50,elma=60)"
   ]
  },
  {
   "cell_type": "code",
   "execution_count": 62,
   "id": "a0f4ffcb",
   "metadata": {},
   "outputs": [
    {
     "data": {
      "text/plain": [
       "dict"
      ]
     },
     "execution_count": 62,
     "metadata": {},
     "output_type": "execute_result"
    }
   ],
   "source": [
    "type(ornekFonksiyon())"
   ]
  },
  {
   "cell_type": "code",
   "execution_count": 63,
   "id": "dffc85c2",
   "metadata": {},
   "outputs": [],
   "source": [
    "def ornekFonksiyon(**kwargs):\n",
    "    return(kwargs)       "
   ]
  },
  {
   "cell_type": "code",
   "execution_count": 64,
   "id": "1aeec448",
   "metadata": {},
   "outputs": [
    {
     "data": {
      "text/plain": [
       "dict"
      ]
     },
     "execution_count": 64,
     "metadata": {},
     "output_type": "execute_result"
    }
   ],
   "source": [
    "type(ornekFonksiyon())"
   ]
  },
  {
   "cell_type": "code",
   "execution_count": 16,
   "id": "6da6876f",
   "metadata": {},
   "outputs": [],
   "source": [
    "def keyWordKontrolu(**kwargs):\n",
    "    if \"zeliha\" in kwargs:\n",
    "        print(\"Zeliha var\")\n",
    "    else:\n",
    "        print(\"Zeliha yok\")"
   ]
  },
  {
   "cell_type": "code",
   "execution_count": 17,
   "id": "b35446eb",
   "metadata": {},
   "outputs": [
    {
     "name": "stdout",
     "output_type": "stream",
     "text": [
      "Zeliha yok\n"
     ]
    }
   ],
   "source": [
    "keyWordKontrolu(fadime=50, merthan=60, seyhan=80)"
   ]
  },
  {
   "cell_type": "code",
   "execution_count": 18,
   "id": "0af0f666",
   "metadata": {},
   "outputs": [
    {
     "name": "stdout",
     "output_type": "stream",
     "text": [
      "Zeliha var\n"
     ]
    }
   ],
   "source": [
    "keyWordKontrolu(fadime=50, merthan=60, seyhan=80, zeliha=90)"
   ]
  },
  {
   "cell_type": "markdown",
   "id": "f2f62948",
   "metadata": {},
   "source": [
    "# Faydali Fonksiyonlar"
   ]
  },
  {
   "cell_type": "code",
   "execution_count": 19,
   "id": "df51aa1e",
   "metadata": {},
   "outputs": [],
   "source": [
    "def bolmeIslemi(numara):\n",
    "    return numara / 2\n",
    "    "
   ]
  },
  {
   "cell_type": "code",
   "execution_count": 20,
   "id": "6a013888",
   "metadata": {},
   "outputs": [
    {
     "data": {
      "text/plain": [
       "15.0"
      ]
     },
     "execution_count": 20,
     "metadata": {},
     "output_type": "execute_result"
    }
   ],
   "source": [
    "bolmeIslemi(30)"
   ]
  },
  {
   "cell_type": "code",
   "execution_count": 21,
   "id": "280bdf26",
   "metadata": {},
   "outputs": [],
   "source": [
    "myList = list(range(11))"
   ]
  },
  {
   "cell_type": "code",
   "execution_count": 22,
   "id": "cb2a396c",
   "metadata": {},
   "outputs": [
    {
     "data": {
      "text/plain": [
       "[0, 1, 2, 3, 4, 5, 6, 7, 8, 9, 10]"
      ]
     },
     "execution_count": 22,
     "metadata": {},
     "output_type": "execute_result"
    }
   ],
   "source": [
    "myList"
   ]
  },
  {
   "cell_type": "code",
   "execution_count": 23,
   "id": "0d16ef45",
   "metadata": {},
   "outputs": [],
   "source": [
    "newList = []\n",
    "for eleman in myList:\n",
    "    newList.append(bolmeIslemi(eleman))"
   ]
  },
  {
   "cell_type": "code",
   "execution_count": 24,
   "id": "418c7698",
   "metadata": {},
   "outputs": [
    {
     "data": {
      "text/plain": [
       "[0.0, 0.5, 1.0, 1.5, 2.0, 2.5, 3.0, 3.5, 4.0, 4.5, 5.0]"
      ]
     },
     "execution_count": 24,
     "metadata": {},
     "output_type": "execute_result"
    }
   ],
   "source": [
    "newList"
   ]
  },
  {
   "cell_type": "markdown",
   "id": "1d1783f5",
   "metadata": {},
   "source": [
    "# map"
   ]
  },
  {
   "cell_type": "code",
   "execution_count": 25,
   "id": "e9684e85",
   "metadata": {},
   "outputs": [
    {
     "data": {
      "text/plain": [
       "[0.0, 0.5, 1.0, 1.5, 2.0, 2.5, 3.0, 3.5, 4.0, 4.5, 5.0]"
      ]
     },
     "execution_count": 25,
     "metadata": {},
     "output_type": "execute_result"
    }
   ],
   "source": [
    "list(map(bolmeIslemi,myList))"
   ]
  },
  {
   "cell_type": "code",
   "execution_count": 26,
   "id": "7e8aa181",
   "metadata": {},
   "outputs": [],
   "source": [
    "def kontrolFonksiyonu (string):\n",
    "    return \"a\" in string"
   ]
  },
  {
   "cell_type": "code",
   "execution_count": 27,
   "id": "63e266aa",
   "metadata": {},
   "outputs": [
    {
     "data": {
      "text/plain": [
       "True"
      ]
     },
     "execution_count": 27,
     "metadata": {},
     "output_type": "execute_result"
    }
   ],
   "source": [
    "\"a\" in \"zeliha\""
   ]
  },
  {
   "cell_type": "code",
   "execution_count": 28,
   "id": "5aec1555",
   "metadata": {},
   "outputs": [
    {
     "data": {
      "text/plain": [
       "True"
      ]
     },
     "execution_count": 28,
     "metadata": {},
     "output_type": "execute_result"
    }
   ],
   "source": [
    "kontrolFonksiyonu(\"zeliha\")"
   ]
  },
  {
   "cell_type": "code",
   "execution_count": 29,
   "id": "1fbb8095",
   "metadata": {},
   "outputs": [],
   "source": [
    "stringListesi =[\"zeliha\",\"busra\",\"firdevs\",\"merthan\",\"mine\"] "
   ]
  },
  {
   "cell_type": "code",
   "execution_count": 30,
   "id": "41107366",
   "metadata": {},
   "outputs": [],
   "source": [
    "stringListesi.append(\"suheda\")"
   ]
  },
  {
   "cell_type": "code",
   "execution_count": 31,
   "id": "0c828e2a",
   "metadata": {},
   "outputs": [
    {
     "data": {
      "text/plain": [
       "['zeliha', 'busra', 'firdevs', 'merthan', 'mine', 'suheda']"
      ]
     },
     "execution_count": 31,
     "metadata": {},
     "output_type": "execute_result"
    }
   ],
   "source": [
    "stringListesi"
   ]
  },
  {
   "cell_type": "code",
   "execution_count": 32,
   "id": "8053e1aa",
   "metadata": {},
   "outputs": [],
   "source": [
    "sonucList = list(map(kontrolFonksiyonu,stringListesi))"
   ]
  },
  {
   "cell_type": "code",
   "execution_count": 33,
   "id": "a639e0da",
   "metadata": {},
   "outputs": [
    {
     "data": {
      "text/plain": [
       "[True, True, False, True, False, True]"
      ]
     },
     "execution_count": 33,
     "metadata": {},
     "output_type": "execute_result"
    }
   ],
   "source": [
    "sonucList"
   ]
  },
  {
   "cell_type": "code",
   "execution_count": 82,
   "id": "ff3883ac",
   "metadata": {},
   "outputs": [
    {
     "data": {
      "text/plain": [
       "4"
      ]
     },
     "execution_count": 82,
     "metadata": {},
     "output_type": "execute_result"
    }
   ],
   "source": [
    "sonucList.count(True)"
   ]
  },
  {
   "cell_type": "markdown",
   "id": "a1b215be",
   "metadata": {},
   "source": [
    "# filter"
   ]
  },
  {
   "cell_type": "code",
   "execution_count": 34,
   "id": "c2ad1e24",
   "metadata": {},
   "outputs": [
    {
     "data": {
      "text/plain": [
       "['zeliha', 'busra', 'merthan', 'suheda']"
      ]
     },
     "execution_count": 34,
     "metadata": {},
     "output_type": "execute_result"
    }
   ],
   "source": [
    "list (filter(kontrolFonksiyonu,stringListesi))"
   ]
  },
  {
   "cell_type": "markdown",
   "id": "7f2ccdc3",
   "metadata": {},
   "source": [
    "# lambda"
   ]
  },
  {
   "cell_type": "code",
   "execution_count": 35,
   "id": "d08578f3",
   "metadata": {},
   "outputs": [],
   "source": [
    "carpma = lambda numara : numara * 3"
   ]
  },
  {
   "cell_type": "code",
   "execution_count": 36,
   "id": "8638229f",
   "metadata": {},
   "outputs": [
    {
     "data": {
      "text/plain": [
       "30"
      ]
     },
     "execution_count": 36,
     "metadata": {},
     "output_type": "execute_result"
    }
   ],
   "source": [
    "carpma(10)"
   ]
  },
  {
   "cell_type": "code",
   "execution_count": 37,
   "id": "0d827a37",
   "metadata": {},
   "outputs": [],
   "source": [
    "ornekListesi = [10,20,30]"
   ]
  },
  {
   "cell_type": "code",
   "execution_count": 38,
   "id": "c53c1afc",
   "metadata": {},
   "outputs": [
    {
     "data": {
      "text/plain": [
       "[40, 80, 120]"
      ]
     },
     "execution_count": 38,
     "metadata": {},
     "output_type": "execute_result"
    }
   ],
   "source": [
    "list(map(lambda numara : numara * 4, ornekListesi))"
   ]
  },
  {
   "cell_type": "code",
   "execution_count": null,
   "id": "2c5b6a41",
   "metadata": {},
   "outputs": [],
   "source": []
  },
  {
   "cell_type": "code",
   "execution_count": null,
   "id": "8b39d9e9",
   "metadata": {},
   "outputs": [],
   "source": []
  }
 ],
 "metadata": {
  "kernelspec": {
   "display_name": "Python 3 (ipykernel)",
   "language": "python",
   "name": "python3"
  },
  "language_info": {
   "codemirror_mode": {
    "name": "ipython",
    "version": 3
   },
   "file_extension": ".py",
   "mimetype": "text/x-python",
   "name": "python",
   "nbconvert_exporter": "python",
   "pygments_lexer": "ipython3",
   "version": "3.9.7"
  }
 },
 "nbformat": 4,
 "nbformat_minor": 5
}
