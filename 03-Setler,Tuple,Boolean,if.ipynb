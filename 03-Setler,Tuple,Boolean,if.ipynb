{
 "cells": [
  {
   "cell_type": "code",
   "execution_count": 1,
   "id": "af3e3c73",
   "metadata": {},
   "outputs": [],
   "source": [
    "list_1 = [1,2,3,1,2,3]"
   ]
  },
  {
   "cell_type": "code",
   "execution_count": 9,
   "id": "f8c0ad2b",
   "metadata": {},
   "outputs": [
    {
     "data": {
      "text/plain": [
       "[1, 2, 3, 1, 2, 3]"
      ]
     },
     "execution_count": 9,
     "metadata": {},
     "output_type": "execute_result"
    }
   ],
   "source": [
    "list_1"
   ]
  },
  {
   "cell_type": "code",
   "execution_count": 10,
   "id": "a05fcf33",
   "metadata": {},
   "outputs": [
    {
     "data": {
      "text/plain": [
       "2"
      ]
     },
     "execution_count": 10,
     "metadata": {},
     "output_type": "execute_result"
    }
   ],
   "source": [
    "list_1[4]"
   ]
  },
  {
   "cell_type": "code",
   "execution_count": 11,
   "id": "487b5d20",
   "metadata": {},
   "outputs": [
    {
     "data": {
      "text/plain": [
       "list"
      ]
     },
     "execution_count": 11,
     "metadata": {},
     "output_type": "execute_result"
    }
   ],
   "source": [
    "type(list_1) "
   ]
  },
  {
   "cell_type": "code",
   "execution_count": 12,
   "id": "2a6f382a",
   "metadata": {},
   "outputs": [],
   "source": [
    "list_1 = set(list_1)  #set formatında tekrarlı elemanları bir daha yazmaz"
   ]
  },
  {
   "cell_type": "code",
   "execution_count": 13,
   "id": "6630d757",
   "metadata": {},
   "outputs": [
    {
     "data": {
      "text/plain": [
       "set"
      ]
     },
     "execution_count": 13,
     "metadata": {},
     "output_type": "execute_result"
    }
   ],
   "source": [
    "type(list_1)"
   ]
  },
  {
   "cell_type": "code",
   "execution_count": 14,
   "id": "adf3a778",
   "metadata": {},
   "outputs": [
    {
     "data": {
      "text/plain": [
       "{1, 2, 3}"
      ]
     },
     "execution_count": 14,
     "metadata": {},
     "output_type": "execute_result"
    }
   ],
   "source": [
    "list_1   #set formatında tekrarlı elemanları bir daha yazmaz"
   ]
  },
  {
   "cell_type": "code",
   "execution_count": 25,
   "id": "8208c146",
   "metadata": {},
   "outputs": [],
   "source": [
    "benimSet = {\"a\",\"b\",\"c\",\"a\"}"
   ]
  },
  {
   "cell_type": "code",
   "execution_count": 26,
   "id": "6689d788",
   "metadata": {},
   "outputs": [
    {
     "data": {
      "text/plain": [
       "set"
      ]
     },
     "execution_count": 26,
     "metadata": {},
     "output_type": "execute_result"
    }
   ],
   "source": [
    "type(benimSet)"
   ]
  },
  {
   "cell_type": "code",
   "execution_count": 20,
   "id": "7d3b27e0",
   "metadata": {},
   "outputs": [
    {
     "data": {
      "text/plain": [
       "{'a', 'b', 'c'}"
      ]
     },
     "execution_count": 20,
     "metadata": {},
     "output_type": "execute_result"
    }
   ],
   "source": [
    "benimSet"
   ]
  },
  {
   "cell_type": "code",
   "execution_count": 21,
   "id": "01f6513a",
   "metadata": {},
   "outputs": [
    {
     "data": {
      "text/plain": [
       "list"
      ]
     },
     "execution_count": 21,
     "metadata": {},
     "output_type": "execute_result"
    }
   ],
   "source": [
    "bosListe = []\n",
    "type(bosListe)"
   ]
  },
  {
   "cell_type": "code",
   "execution_count": 22,
   "id": "f0206cbf",
   "metadata": {},
   "outputs": [
    {
     "data": {
      "text/plain": [
       "[]"
      ]
     },
     "execution_count": 22,
     "metadata": {},
     "output_type": "execute_result"
    }
   ],
   "source": [
    "bosListe"
   ]
  },
  {
   "cell_type": "code",
   "execution_count": 23,
   "id": "c987466c",
   "metadata": {},
   "outputs": [],
   "source": [
    "bosSet = {}  #sözlük olarak algılıyor"
   ]
  },
  {
   "cell_type": "code",
   "execution_count": 27,
   "id": "b78ce77a",
   "metadata": {},
   "outputs": [
    {
     "data": {
      "text/plain": [
       "dict"
      ]
     },
     "execution_count": 27,
     "metadata": {},
     "output_type": "execute_result"
    }
   ],
   "source": [
    "type(bosSet)"
   ]
  },
  {
   "cell_type": "code",
   "execution_count": 28,
   "id": "6b209196",
   "metadata": {},
   "outputs": [
    {
     "data": {
      "text/plain": [
       "set()"
      ]
     },
     "execution_count": 28,
     "metadata": {},
     "output_type": "execute_result"
    }
   ],
   "source": [
    "bosSetim = set()\n",
    "bosSetim"
   ]
  },
  {
   "cell_type": "code",
   "execution_count": 29,
   "id": "a0a0aee6",
   "metadata": {},
   "outputs": [
    {
     "data": {
      "text/plain": [
       "{20, 50}"
      ]
     },
     "execution_count": 29,
     "metadata": {},
     "output_type": "execute_result"
    }
   ],
   "source": [
    "bosSetim.add(50)\n",
    "bosSetim.add(20)\n",
    "bosSetim"
   ]
  },
  {
   "cell_type": "code",
   "execution_count": 30,
   "id": "39fb8ee8",
   "metadata": {},
   "outputs": [
    {
     "data": {
      "text/plain": [
       "[]"
      ]
     },
     "execution_count": 30,
     "metadata": {},
     "output_type": "execute_result"
    }
   ],
   "source": [
    "listeBos = []\n",
    "listeBos"
   ]
  },
  {
   "cell_type": "code",
   "execution_count": 31,
   "id": "bf7f8f64",
   "metadata": {},
   "outputs": [
    {
     "data": {
      "text/plain": [
       "[50]"
      ]
     },
     "execution_count": 31,
     "metadata": {},
     "output_type": "execute_result"
    }
   ],
   "source": [
    "listeBos.append(50)\n",
    "listeBos"
   ]
  },
  {
   "cell_type": "code",
   "execution_count": 32,
   "id": "42ead83f",
   "metadata": {},
   "outputs": [
    {
     "data": {
      "text/plain": [
       "{'key': 5166}"
      ]
     },
     "execution_count": 32,
     "metadata": {},
     "output_type": "execute_result"
    }
   ],
   "source": [
    "bosSozlugum = dict()\n",
    "bosSozlugum[\"key\"] = 5166\n",
    "bosSozlugum"
   ]
  },
  {
   "cell_type": "code",
   "execution_count": 33,
   "id": "928211a8",
   "metadata": {},
   "outputs": [
    {
     "data": {
      "text/plain": [
       "dict"
      ]
     },
     "execution_count": 33,
     "metadata": {},
     "output_type": "execute_result"
    }
   ],
   "source": [
    "type(bosSozlugum)"
   ]
  },
  {
   "cell_type": "markdown",
   "id": "5f74b6ca",
   "metadata": {},
   "source": [
    "# TUPLE"
   ]
  },
  {
   "cell_type": "code",
   "execution_count": 34,
   "id": "44ae4ce9",
   "metadata": {},
   "outputs": [
    {
     "data": {
      "text/plain": [
       "[115, 2, 'a', 4.5]"
      ]
     },
     "execution_count": 34,
     "metadata": {},
     "output_type": "execute_result"
    }
   ],
   "source": [
    "myList = [1,2,\"a\",4.5]\n",
    "myList [0]= 115\n",
    "myList"
   ]
  },
  {
   "cell_type": "code",
   "execution_count": 35,
   "id": "3f758049",
   "metadata": {},
   "outputs": [
    {
     "data": {
      "text/plain": [
       "2.8"
      ]
     },
     "execution_count": 35,
     "metadata": {},
     "output_type": "execute_result"
    }
   ],
   "source": [
    "myTuple = (1,2,3,\"a\",2.8)\n",
    "myTuple[4]"
   ]
  },
  {
   "cell_type": "code",
   "execution_count": 39,
   "id": "3b239aec",
   "metadata": {},
   "outputs": [],
   "source": [
    "#myTuple[2]= \"b\""
   ]
  },
  {
   "cell_type": "code",
   "execution_count": 37,
   "id": "60ee4961",
   "metadata": {},
   "outputs": [
    {
     "data": {
      "text/plain": [
       "1"
      ]
     },
     "execution_count": 37,
     "metadata": {},
     "output_type": "execute_result"
    }
   ],
   "source": [
    "myTuple.count(2)"
   ]
  },
  {
   "cell_type": "code",
   "execution_count": 40,
   "id": "8f647ff8",
   "metadata": {},
   "outputs": [
    {
     "data": {
      "text/plain": [
       "4"
      ]
     },
     "execution_count": 40,
     "metadata": {},
     "output_type": "execute_result"
    }
   ],
   "source": [
    "myTuple.index(2.8) #kaçıncı eleman olduğunu sormak için "
   ]
  },
  {
   "cell_type": "markdown",
   "id": "10a3f704",
   "metadata": {},
   "source": [
    "# BOOL"
   ]
  },
  {
   "cell_type": "code",
   "execution_count": 41,
   "id": "6de7d0de",
   "metadata": {},
   "outputs": [
    {
     "data": {
      "text/plain": [
       "True"
      ]
     },
     "execution_count": 41,
     "metadata": {},
     "output_type": "execute_result"
    }
   ],
   "source": [
    "myBool = True\n",
    "myBool"
   ]
  },
  {
   "cell_type": "code",
   "execution_count": 42,
   "id": "f84b3c3d",
   "metadata": {},
   "outputs": [
    {
     "data": {
      "text/plain": [
       "bool"
      ]
     },
     "execution_count": 42,
     "metadata": {},
     "output_type": "execute_result"
    }
   ],
   "source": [
    "type(myBool)"
   ]
  },
  {
   "cell_type": "code",
   "execution_count": 43,
   "id": "40cd86dd",
   "metadata": {},
   "outputs": [
    {
     "data": {
      "text/plain": [
       "False"
      ]
     },
     "execution_count": 43,
     "metadata": {},
     "output_type": "execute_result"
    }
   ],
   "source": [
    "myBoolean = False\n",
    "myBoolean"
   ]
  },
  {
   "cell_type": "code",
   "execution_count": 44,
   "id": "c251b173",
   "metadata": {},
   "outputs": [
    {
     "data": {
      "text/plain": [
       "False"
      ]
     },
     "execution_count": 44,
     "metadata": {},
     "output_type": "execute_result"
    }
   ],
   "source": [
    "10 < 5 "
   ]
  },
  {
   "cell_type": "code",
   "execution_count": 46,
   "id": "be683a5c",
   "metadata": {},
   "outputs": [
    {
     "data": {
      "text/plain": [
       "4"
      ]
     },
     "execution_count": 46,
     "metadata": {},
     "output_type": "execute_result"
    }
   ],
   "source": [
    "listem = [1000,5000,3000,6000]\n",
    "b = len(listem) #liste uzunluğunu verir\n",
    "b"
   ]
  },
  {
   "cell_type": "code",
   "execution_count": 47,
   "id": "5479cecc",
   "metadata": {},
   "outputs": [
    {
     "data": {
      "text/plain": [
       "15000"
      ]
     },
     "execution_count": 47,
     "metadata": {},
     "output_type": "execute_result"
    }
   ],
   "source": [
    "a = sum(listem)  #listedeki elemanları toplar \n",
    "a"
   ]
  },
  {
   "cell_type": "code",
   "execution_count": 48,
   "id": "b9ce51a7",
   "metadata": {},
   "outputs": [
    {
     "data": {
      "text/plain": [
       "3750.0"
      ]
     },
     "execution_count": 48,
     "metadata": {},
     "output_type": "execute_result"
    }
   ],
   "source": [
    "ortalama = a/b\n",
    "ortalama"
   ]
  },
  {
   "cell_type": "code",
   "execution_count": 49,
   "id": "7412bdbc",
   "metadata": {},
   "outputs": [
    {
     "data": {
      "text/plain": [
       "False"
      ]
     },
     "execution_count": 49,
     "metadata": {},
     "output_type": "execute_result"
    }
   ],
   "source": [
    "listem[1] < ortalama "
   ]
  },
  {
   "cell_type": "code",
   "execution_count": 50,
   "id": "07537562",
   "metadata": {},
   "outputs": [
    {
     "name": "stdout",
     "output_type": "stream",
     "text": [
      "Maas bilgisi giriniz:100\n"
     ]
    }
   ],
   "source": [
    "kullaniciMaas = input(\"Maas bilgisi giriniz:\")"
   ]
  },
  {
   "cell_type": "code",
   "execution_count": 51,
   "id": "30fc2c61",
   "metadata": {},
   "outputs": [
    {
     "data": {
      "text/plain": [
       "str"
      ]
     },
     "execution_count": 51,
     "metadata": {},
     "output_type": "execute_result"
    }
   ],
   "source": [
    "type(kullaniciMaas) "
   ]
  },
  {
   "cell_type": "code",
   "execution_count": 52,
   "id": "e2486552",
   "metadata": {},
   "outputs": [
    {
     "data": {
      "text/plain": [
       "int"
      ]
     },
     "execution_count": 52,
     "metadata": {},
     "output_type": "execute_result"
    }
   ],
   "source": [
    "kullaniciMaas = int(kullaniciMaas)\n",
    "type(kullaniciMaas)"
   ]
  },
  {
   "cell_type": "code",
   "execution_count": 53,
   "id": "d3e51c6b",
   "metadata": {},
   "outputs": [
    {
     "data": {
      "text/plain": [
       "False"
      ]
     },
     "execution_count": 53,
     "metadata": {},
     "output_type": "execute_result"
    }
   ],
   "source": [
    "kullaniciMaas > ortalama"
   ]
  },
  {
   "cell_type": "code",
   "execution_count": 54,
   "id": "07d9e04b",
   "metadata": {},
   "outputs": [
    {
     "data": {
      "text/plain": [
       "False"
      ]
     },
     "execution_count": 54,
     "metadata": {},
     "output_type": "execute_result"
    }
   ],
   "source": [
    "x = 10\n",
    "y = 8\n",
    "x < y"
   ]
  },
  {
   "cell_type": "code",
   "execution_count": 55,
   "id": "3ddc2f1c",
   "metadata": {},
   "outputs": [
    {
     "data": {
      "text/plain": [
       "False"
      ]
     },
     "execution_count": 55,
     "metadata": {},
     "output_type": "execute_result"
    }
   ],
   "source": [
    "x == y"
   ]
  },
  {
   "cell_type": "code",
   "execution_count": 56,
   "id": "a55a7037",
   "metadata": {},
   "outputs": [
    {
     "data": {
      "text/plain": [
       "True"
      ]
     },
     "execution_count": 56,
     "metadata": {},
     "output_type": "execute_result"
    }
   ],
   "source": [
    "x != y"
   ]
  },
  {
   "cell_type": "code",
   "execution_count": 57,
   "id": "8197efb9",
   "metadata": {},
   "outputs": [
    {
     "data": {
      "text/plain": [
       "True"
      ]
     },
     "execution_count": 57,
     "metadata": {},
     "output_type": "execute_result"
    }
   ],
   "source": [
    "3 > 1 and 3>2"
   ]
  },
  {
   "cell_type": "code",
   "execution_count": 58,
   "id": "7ffb579c",
   "metadata": {},
   "outputs": [
    {
     "data": {
      "text/plain": [
       "True"
      ]
     },
     "execution_count": 58,
     "metadata": {},
     "output_type": "execute_result"
    }
   ],
   "source": [
    "not 5 == 4 "
   ]
  },
  {
   "cell_type": "markdown",
   "id": "042d451c",
   "metadata": {},
   "source": [
    "# If"
   ]
  },
  {
   "cell_type": "code",
   "execution_count": 59,
   "id": "8b9f3ab9",
   "metadata": {},
   "outputs": [
    {
     "data": {
      "text/plain": [
       "False"
      ]
     },
     "execution_count": 59,
     "metadata": {},
     "output_type": "execute_result"
    }
   ],
   "source": [
    "3 < 1"
   ]
  },
  {
   "cell_type": "code",
   "execution_count": 60,
   "id": "633a1208",
   "metadata": {},
   "outputs": [
    {
     "name": "stdout",
     "output_type": "stream",
     "text": [
      "dogru\n"
     ]
    }
   ],
   "source": [
    "if 3 > 4 :\n",
    "    print(\"yanlis\")\n",
    "elif 3 < 4 :\n",
    "    print(\"dogru\")"
   ]
  },
  {
   "cell_type": "code",
   "execution_count": 61,
   "id": "6b9c8e97",
   "metadata": {},
   "outputs": [
    {
     "name": "stdout",
     "output_type": "stream",
     "text": [
      "x, y'ye eşittir\n"
     ]
    }
   ],
   "source": [
    "x = 20\n",
    "y = 20\n",
    "\n",
    "if x < y:\n",
    "    print(\"x, y'den küçüktür\")\n",
    "elif x > y :\n",
    "    print(\"x, y'den büyüktür\")\n",
    "else:\n",
    "    print(\"x, y'ye eşittir\")"
   ]
  },
  {
   "cell_type": "code",
   "execution_count": 62,
   "id": "70084cc5",
   "metadata": {},
   "outputs": [
    {
     "name": "stdout",
     "output_type": "stream",
     "text": [
      "En sevdiğiniz meyveyi giriniz:elma\n"
     ]
    }
   ],
   "source": [
    "meyveler = input(\"En sevdiğiniz meyveyi giriniz:\")\n"
   ]
  },
  {
   "cell_type": "code",
   "execution_count": 63,
   "id": "fbf854af",
   "metadata": {},
   "outputs": [
    {
     "name": "stdout",
     "output_type": "stream",
     "text": [
      "bilemediniz\n"
     ]
    }
   ],
   "source": [
    "if meyveler == \"çilek\":\n",
    "    print(\"doğru tahmin!\")\n",
    "elif meyveler == \"elma\":\n",
    "    print(\"bilemediniz\")\n",
    "else:\n",
    "    print(\"yanlış\")"
   ]
  },
  {
   "cell_type": "code",
   "execution_count": 64,
   "id": "bbe16c24",
   "metadata": {},
   "outputs": [],
   "source": [
    "a = 10\n",
    "b = 20 \n",
    "c = 30"
   ]
  },
  {
   "cell_type": "code",
   "execution_count": 65,
   "id": "ea055f35",
   "metadata": {},
   "outputs": [
    {
     "name": "stdout",
     "output_type": "stream",
     "text": [
      "b, a'dan; c ise b'den büyüktür\n"
     ]
    }
   ],
   "source": [
    "if a < b and b > c :\n",
    "    print(\"b, a'dan büyüktür VE b de c'den büyüktür\")\n",
    "    \n",
    "elif b > a and c > b:\n",
    "    print(\"b, a'dan; c ise b'den büyüktür\")"
   ]
  },
  {
   "cell_type": "code",
   "execution_count": 66,
   "id": "64409940",
   "metadata": {},
   "outputs": [
    {
     "name": "stdout",
     "output_type": "stream",
     "text": [
      "karakteriniz yaşamıyor\n"
     ]
    }
   ],
   "source": [
    "karakterCanli = False\n",
    "if karakterCanli == True:\n",
    "    print(\"karakteriniz yaşıyor\")\n",
    "else :\n",
    "    print(\"karakteriniz yaşamıyor\")"
   ]
  },
  {
   "cell_type": "code",
   "execution_count": 67,
   "id": "0b0eace9",
   "metadata": {},
   "outputs": [
    {
     "name": "stdout",
     "output_type": "stream",
     "text": [
      "yasamiyor\n"
     ]
    }
   ],
   "source": [
    "if karakterCanli :\n",
    "    print(\"oyun karakteriniz yaşıyor\")\n",
    "else:\n",
    "    print(\"yasamiyor\")"
   ]
  },
  {
   "cell_type": "code",
   "execution_count": 68,
   "id": "8d3e7038",
   "metadata": {},
   "outputs": [
    {
     "name": "stdout",
     "output_type": "stream",
     "text": [
      "yasamiyor\n"
     ]
    }
   ],
   "source": [
    "if not karakterCanli:\n",
    "    print(\"yasamiyor\")"
   ]
  },
  {
   "cell_type": "code",
   "execution_count": 69,
   "id": "0c2c8284",
   "metadata": {},
   "outputs": [],
   "source": [
    "myString = \"Zeliha Seyhan\""
   ]
  },
  {
   "cell_type": "code",
   "execution_count": 70,
   "id": "49499172",
   "metadata": {},
   "outputs": [
    {
     "name": "stdout",
     "output_type": "stream",
     "text": [
      "eşit değil\n"
     ]
    }
   ],
   "source": [
    "if myString == \"Zeliha seyhan\":\n",
    "    \n",
    "    print(\"eşittir\")\n",
    "else:\n",
    "    print(\"eşit değil\")"
   ]
  },
  {
   "cell_type": "code",
   "execution_count": 71,
   "id": "c62dde27",
   "metadata": {},
   "outputs": [
    {
     "name": "stdout",
     "output_type": "stream",
     "text": [
      "yok\n"
     ]
    }
   ],
   "source": [
    "if \"seyhan\" in myString:   #büyük harfle başlaması gerekirdi\n",
    "    print(\"var\")\n",
    "    \n",
    "    \n",
    "else:\n",
    "    print(\"yok\")"
   ]
  },
  {
   "cell_type": "code",
   "execution_count": 72,
   "id": "55273173",
   "metadata": {},
   "outputs": [
    {
     "name": "stdout",
     "output_type": "stream",
     "text": [
      "var\n"
     ]
    }
   ],
   "source": [
    "myList = [23,59,36,448]\n",
    "\n",
    "if 23 in myList:\n",
    "    print(\"var\")\n",
    "else:\n",
    "    print(\"yok\")"
   ]
  },
  {
   "cell_type": "code",
   "execution_count": 73,
   "id": "c81adc70",
   "metadata": {},
   "outputs": [],
   "source": [
    "benimSozluk = {\"muz\":50, \"elma\":100, \"kivi\":60}"
   ]
  },
  {
   "cell_type": "code",
   "execution_count": 74,
   "id": "bcc14ecd",
   "metadata": {},
   "outputs": [
    {
     "name": "stdout",
     "output_type": "stream",
     "text": [
      "var\n"
     ]
    }
   ],
   "source": [
    "if \"elma\" in benimSozluk.keys():\n",
    "    print(\"var\")"
   ]
  },
  {
   "cell_type": "code",
   "execution_count": 75,
   "id": "217616e8",
   "metadata": {},
   "outputs": [
    {
     "name": "stdout",
     "output_type": "stream",
     "text": [
      "var\n"
     ]
    }
   ],
   "source": [
    "if 50 in benimSozluk.values():\n",
    "    print(\"var\")"
   ]
  },
  {
   "cell_type": "code",
   "execution_count": null,
   "id": "e716b1ba",
   "metadata": {},
   "outputs": [],
   "source": []
  }
 ],
 "metadata": {
  "kernelspec": {
   "display_name": "Python 3 (ipykernel)",
   "language": "python",
   "name": "python3"
  },
  "language_info": {
   "codemirror_mode": {
    "name": "ipython",
    "version": 3
   },
   "file_extension": ".py",
   "mimetype": "text/x-python",
   "name": "python",
   "nbconvert_exporter": "python",
   "pygments_lexer": "ipython3",
   "version": "3.9.7"
  }
 },
 "nbformat": 4,
 "nbformat_minor": 5
}
