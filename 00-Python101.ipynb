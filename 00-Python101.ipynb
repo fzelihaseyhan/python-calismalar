{
 "cells": [
  {
   "cell_type": "code",
   "execution_count": 1,
   "id": "cfac5ad9",
   "metadata": {},
   "outputs": [
    {
     "name": "stdout",
     "output_type": "stream",
     "text": [
      "Hello,world!\n"
     ]
    }
   ],
   "source": [
    "print(\"Hello,world!\")"
   ]
  },
  {
   "cell_type": "code",
   "execution_count": 2,
   "id": "3dc24f84",
   "metadata": {},
   "outputs": [
    {
     "name": "stdout",
     "output_type": "stream",
     "text": [
      "Fadime\n",
      "Zeliha\n",
      "SEYHAN \n",
      "22\n"
     ]
    }
   ],
   "source": [
    "print(\"Fadime\\nZeliha\\nSEYHAN\",\"\\n22\")"
   ]
  },
  {
   "cell_type": "markdown",
   "id": "b8f163f6",
   "metadata": {},
   "source": [
    "# boolen: true ,false"
   ]
  },
  {
   "cell_type": "code",
   "execution_count": 3,
   "id": "82e74051",
   "metadata": {},
   "outputs": [
    {
     "name": "stdout",
     "output_type": "stream",
     "text": [
      "Hello,world!\n"
     ]
    }
   ],
   "source": [
    "a=\"Hello,world!\"\n",
    "print(a)"
   ]
  },
  {
   "cell_type": "code",
   "execution_count": 4,
   "id": "b68efcfc",
   "metadata": {},
   "outputs": [
    {
     "data": {
      "text/plain": [
       "str"
      ]
     },
     "execution_count": 4,
     "metadata": {},
     "output_type": "execute_result"
    }
   ],
   "source": [
    "type(a)"
   ]
  },
  {
   "cell_type": "code",
   "execution_count": 5,
   "id": "28e9b6fa",
   "metadata": {},
   "outputs": [
    {
     "name": "stdout",
     "output_type": "stream",
     "text": [
      "19/09/1999\n",
      "2 + 3 =5\n"
     ]
    }
   ],
   "source": [
    "print(\"19\",\"09\",\"1999\",sep = \"/\")  # ifadeleri / ile ayırır\n",
    "\n",
    "print(\"{} + {} ={}\".format(2,3,2 +3))"
   ]
  },
  {
   "cell_type": "code",
   "execution_count": 6,
   "id": "6b06c952",
   "metadata": {},
   "outputs": [
    {
     "name": "stdout",
     "output_type": "stream",
     "text": [
      "<class 'int'>\n",
      "<class 'float'>\n",
      "<class 'str'>\n",
      "<class 'list'>\n",
      "<class 'tuple'>\n",
      "<class 'bool'>\n",
      "<class 'dict'>\n"
     ]
    }
   ],
   "source": [
    "a =3 \n",
    "b= 3.14\n",
    "c=\"Python\"\n",
    "d=[1,2,3,4]\n",
    "e=(1,2,3,4)\n",
    "f =True\n",
    "g={\"phyton\":3,\"java\":4}\n",
    "\n",
    "print(type(a)) # Değişkenin hangi veri tipinde olduğunu sorulamamızı sağlar.\n",
    "print(type(b))\n",
    "print(type(c))\n",
    "print(type(d))\n",
    "print(type(e))\n",
    "print(type(f))\n",
    "print(type(g))\n"
   ]
  },
  {
   "cell_type": "code",
   "execution_count": 7,
   "id": "53111a0e",
   "metadata": {},
   "outputs": [
    {
     "name": "stdout",
     "output_type": "stream",
     "text": [
      "3 3.14 Python\n",
      "7\n",
      "12\n",
      "-1\n"
     ]
    }
   ],
   "source": [
    "print(a,b,c)\n",
    "print(3+4)\n",
    "print(3*4)\n",
    "print(3-4)"
   ]
  },
  {
   "cell_type": "code",
   "execution_count": 8,
   "id": "89505cc6",
   "metadata": {},
   "outputs": [
    {
     "name": "stdout",
     "output_type": "stream",
     "text": [
      "3\n"
     ]
    }
   ],
   "source": [
    "print (10//3) # Tamsayı böler"
   ]
  },
  {
   "cell_type": "code",
   "execution_count": 9,
   "id": "561f969a",
   "metadata": {},
   "outputs": [
    {
     "name": "stdout",
     "output_type": "stream",
     "text": [
      "1\n"
     ]
    }
   ],
   "source": [
    "print(21 % 5) # Bölümden kalanı verir"
   ]
  },
  {
   "cell_type": "code",
   "execution_count": 10,
   "id": "f2e412a1",
   "metadata": {},
   "outputs": [
    {
     "name": "stdout",
     "output_type": "stream",
     "text": [
      "25\n"
     ]
    }
   ],
   "source": [
    "a = 5\n",
    "b = 10\n",
    "c = a + 2*b\n",
    "print(c)"
   ]
  },
  {
   "cell_type": "code",
   "execution_count": 11,
   "id": "a9dae87a",
   "metadata": {},
   "outputs": [
    {
     "name": "stdout",
     "output_type": "stream",
     "text": [
      "PythonProgramlamaDili\n",
      "PythonPythonPythonPythonPython\n"
     ]
    }
   ],
   "source": [
    "a = \"Python\"\n",
    "b = \"Programlama\"\n",
    "c = \"Dili\"\n",
    "d = a+b+c\n",
    "\n",
    "print(d)\n",
    "print(a*5)"
   ]
  },
  {
   "cell_type": "code",
   "execution_count": 12,
   "id": "bfb4767e",
   "metadata": {},
   "outputs": [
    {
     "name": "stdout",
     "output_type": "stream",
     "text": [
      "***\n",
      "****\n",
      "*****\n"
     ]
    }
   ],
   "source": [
    "print(\"*\" * 3)\n",
    "print(\"*\" * 4)\n",
    "print(\"*\" * 5)"
   ]
  },
  {
   "cell_type": "code",
   "execution_count": 13,
   "id": "6abe5c22",
   "metadata": {},
   "outputs": [
    {
     "name": "stdout",
     "output_type": "stream",
     "text": [
      "P t\n",
      "6\n",
      "n\n",
      "on\n"
     ]
    }
   ],
   "source": [
    "str = \"Python\"\n",
    "\n",
    "print(str[0],str[2])\n",
    "print(len(str)) # dizi boyutunu verir.\n",
    "            \n",
    " \n",
    "print(str[len(str)-1]) # son elemanı çağırma\n",
    "print(str[4:])"
   ]
  },
  {
   "cell_type": "code",
   "execution_count": 14,
   "id": "15258406",
   "metadata": {},
   "outputs": [
    {
     "name": "stdout",
     "output_type": "stream",
     "text": [
      "9\n",
      "[1, 3, 5, 7, 9]\n"
     ]
    }
   ],
   "source": [
    "list = [1,2,3,4,5,6,7,8,9]\n",
    "print(len(list))  \n",
    "print(list[::2]) # 1 atlayarak yazar.\n"
   ]
  },
  {
   "cell_type": "code",
   "execution_count": 15,
   "id": "8babbd56",
   "metadata": {},
   "outputs": [
    {
     "name": "stdout",
     "output_type": "stream",
     "text": [
      "[1, 2, 3, 4, 5, 6, 7, 8]\n",
      "[6, 7, 8, 9]\n",
      "[1, 3, 5]\n"
     ]
    }
   ],
   "source": [
    "print(list[:8]) # ilk 7 elemanı yazar\n",
    "print(list[5:]) # 5. elemandan sonrasını yazar.\n",
    "print(list[0:5:2]) # 0. elemandan 5. elemana kadar 1 atlayarak yazdırır."
   ]
  },
  {
   "cell_type": "code",
   "execution_count": 16,
   "id": "347ed75c",
   "metadata": {},
   "outputs": [
    {
     "name": "stdout",
     "output_type": "stream",
     "text": [
      "dict_keys(['Muz', 'Elma', 'Armut'])\n",
      "4\n",
      "5\n"
     ]
    }
   ],
   "source": [
    "a = {\"Muz\":3,\"Elma\":4,\"Armut\":5}  # sözlük: key,value\n",
    "\n",
    "print(a.keys()) # anahtarları yazdırır.\n",
    "\n",
    "\n",
    "print(a[\"Elma\"])\n",
    "print(a[\"Armut\"])\n"
   ]
  },
  {
   "cell_type": "code",
   "execution_count": 18,
   "id": "e6c368d6",
   "metadata": {},
   "outputs": [
    {
     "name": "stdout",
     "output_type": "stream",
     "text": [
      "Yasınızı girin:12\n",
      "12\n"
     ]
    }
   ],
   "source": [
    "yas = input(\"Yasınızı girin:\") # kullanıcıdan girdi almamızı sağlar.\n",
    "print(yas)\n"
   ]
  },
  {
   "cell_type": "code",
   "execution_count": 19,
   "id": "90963846",
   "metadata": {},
   "outputs": [
    {
     "name": "stdout",
     "output_type": "stream",
     "text": [
      "a:23\n",
      "b:56\n",
      "c:12\n",
      "91\n"
     ]
    }
   ],
   "source": [
    "a = int(input(\"a:\"))\n",
    "b = int(input(\"b:\"))\n",
    "c = int(input(\"c:\"))\n",
    "toplam = a+b+c\n",
    "print(toplam)\n"
   ]
  },
  {
   "cell_type": "code",
   "execution_count": 20,
   "id": "91ba08f0",
   "metadata": {},
   "outputs": [
    {
     "name": "stdout",
     "output_type": "stream",
     "text": [
      "Yasinizi girin:23\n",
      "Mekana Girebilirsiniz\n"
     ]
    }
   ],
   "source": [
    "yas = int(input(\"Yasinizi girin:\"))\n",
    "\n",
    "if yas < 18:\n",
    "    print(\"Mekana Giremezsiniz\")\n",
    "    \n",
    "elif yas > 18:\n",
    "    print(\"Mekana Girebilirsiniz\")"
   ]
  },
  {
   "cell_type": "code",
   "execution_count": 21,
   "id": "fbec5813",
   "metadata": {},
   "outputs": [
    {
     "name": "stdout",
     "output_type": "stream",
     "text": [
      "islem giriniz:3\n",
      "islem 3'ü sectiniz\n"
     ]
    }
   ],
   "source": [
    "islem = int(input(\"islem giriniz:\"))\n",
    "\n",
    "if islem == 1:\n",
    "    print(\"islem 1'i sectiniz\")\n",
    "    \n",
    "elif islem == 2:\n",
    "    print(\"islem 2'yi sectiniz\")\n",
    "    \n",
    "elif islem == 3:\n",
    "    print(\"islem 3'ü sectiniz\")\n",
    "    \n",
    "else:\n",
    "    print(\"Geçersiz işlem\")"
   ]
  },
  {
   "cell_type": "code",
   "execution_count": 22,
   "id": "394d1b16",
   "metadata": {},
   "outputs": [
    {
     "name": "stdout",
     "output_type": "stream",
     "text": [
      "Yanlış\n"
     ]
    }
   ],
   "source": [
    "a = 3\n",
    "b = 5\n",
    "\n",
    "if a==3 and b==4:\n",
    "    print(\"islem doğru\")\n",
    "    \n",
    "else:\n",
    "    print(\"Yanlış\")"
   ]
  },
  {
   "cell_type": "code",
   "execution_count": 23,
   "id": "460770eb",
   "metadata": {},
   "outputs": [
    {
     "name": "stdout",
     "output_type": "stream",
     "text": [
      "islem doğru\n"
     ]
    }
   ],
   "source": [
    "if a==3 or b==4:\n",
    "    print(\"islem doğru\")"
   ]
  },
  {
   "cell_type": "code",
   "execution_count": 24,
   "id": "23361b62",
   "metadata": {},
   "outputs": [
    {
     "name": "stdout",
     "output_type": "stream",
     "text": [
      "yanlış\n"
     ]
    }
   ],
   "source": [
    "if (not (3 < 4)):\n",
    "    print(\"doğru\")\n",
    "else:\n",
    "    print(\"yanlış\")"
   ]
  },
  {
   "cell_type": "code",
   "execution_count": 25,
   "id": "c12ff8a2",
   "metadata": {},
   "outputs": [
    {
     "name": "stdout",
     "output_type": "stream",
     "text": [
      "i: 0\n",
      "i: 1\n",
      "i: 2\n",
      "i: 3\n",
      "i: 4\n"
     ]
    }
   ],
   "source": [
    "i = 0\n",
    "while i < 5:\n",
    "    print(\"i:\",i)\n",
    "    i += 1    # ya da i= i+1 diyebiliriz\n",
    "    "
   ]
  },
  {
   "cell_type": "code",
   "execution_count": 26,
   "id": "08a1589a",
   "metadata": {},
   "outputs": [
    {
     "name": "stdout",
     "output_type": "stream",
     "text": [
      "i: 0\n",
      "i: 2\n",
      "i: 4\n",
      "i: 6\n",
      "i: 8\n"
     ]
    }
   ],
   "source": [
    "i = 0\n",
    "while i < 10:\n",
    "    print(\"i:\",i)\n",
    "    i +=2"
   ]
  },
  {
   "cell_type": "code",
   "execution_count": 27,
   "id": "23e05991",
   "metadata": {},
   "outputs": [
    {
     "name": "stdout",
     "output_type": "stream",
     "text": [
      "i: 1\n",
      "i: 2\n",
      "i: 4\n",
      "i: 8\n",
      "i: 16\n",
      "i: 32\n",
      "i: 64\n",
      "i: 128\n",
      "i: 256\n",
      "i: 512\n"
     ]
    }
   ],
   "source": [
    "i = 1\n",
    "while i < 1000:\n",
    "    print(\"i:\",i)\n",
    "    i *=2            # i= i*2"
   ]
  },
  {
   "cell_type": "code",
   "execution_count": 28,
   "id": "faafffea",
   "metadata": {},
   "outputs": [
    {
     "name": "stdout",
     "output_type": "stream",
     "text": [
      "i: 0\n",
      "i: 1\n",
      "i: 2\n",
      "i: 3\n",
      "i: 4\n",
      "i: 5\n",
      "i: 6\n"
     ]
    }
   ],
   "source": [
    "i = 0\n",
    "while ( i < 10):\n",
    "    if i == 7:\n",
    "        break\n",
    "    print(\"i:\",i)\n",
    "    i +=1"
   ]
  },
  {
   "cell_type": "markdown",
   "id": "8ebed6fa",
   "metadata": {},
   "source": [
    "# Sonsuz Döngü"
   ]
  },
  {
   "cell_type": "markdown",
   "id": "1a776f7b",
   "metadata": {},
   "source": [
    "i = 0         \n",
    "\n",
    "while (i < 20):\n",
    "    if i == 10 or i ==12:\n",
    "        i =+1\n",
    "        continue\n",
    "    print(\"i:\",i)\n",
    "    i += 1"
   ]
  },
  {
   "cell_type": "code",
   "execution_count": 29,
   "id": "589894d9",
   "metadata": {},
   "outputs": [
    {
     "name": "stdout",
     "output_type": "stream",
     "text": [
      "5\n"
     ]
    }
   ],
   "source": [
    "a = 5\n",
    "print(a)"
   ]
  },
  {
   "cell_type": "code",
   "execution_count": 30,
   "id": "d7d8d027",
   "metadata": {},
   "outputs": [
    {
     "name": "stdout",
     "output_type": "stream",
     "text": [
      "1\n",
      "2\n",
      "3\n",
      "4\n",
      "5\n",
      "6\n",
      "7\n",
      "8\n"
     ]
    }
   ],
   "source": [
    "a = [1,2,3,4,5,6,7,8]\n",
    "\n",
    "for sayılar in a:\n",
    "    print(sayılar)"
   ]
  },
  {
   "cell_type": "code",
   "execution_count": 31,
   "id": "b9ea31ea",
   "metadata": {},
   "outputs": [
    {
     "name": "stdout",
     "output_type": "stream",
     "text": [
      "P\n",
      "Y\n",
      "T\n",
      "H\n",
      "O\n",
      "N\n"
     ]
    }
   ],
   "source": [
    "b= \"PYTHON\"\n",
    "\n",
    "for harfler in b:\n",
    "    print(harfler)\n"
   ]
  },
  {
   "cell_type": "code",
   "execution_count": 32,
   "id": "a7604e50",
   "metadata": {},
   "outputs": [
    {
     "name": "stdout",
     "output_type": "stream",
     "text": [
      "0\n",
      "2\n",
      "4\n",
      "6\n",
      "8\n"
     ]
    }
   ],
   "source": [
    "for sayı in range(0,10,2):\n",
    "    print(sayı)"
   ]
  },
  {
   "cell_type": "code",
   "execution_count": 33,
   "id": "ae3eb66b",
   "metadata": {},
   "outputs": [
    {
     "name": "stdout",
     "output_type": "stream",
     "text": [
      "Merhaba isimsiz\n",
      "Merhaba Zeliha\n"
     ]
    }
   ],
   "source": [
    "def fonk(isim = \"isimsiz\"):\n",
    "    print(\"Merhaba\",isim)\n",
    "    \n",
    "fonk()\n",
    "fonk(\"Zeliha\")"
   ]
  },
  {
   "cell_type": "code",
   "execution_count": 34,
   "id": "02ab258a",
   "metadata": {},
   "outputs": [
    {
     "name": "stdout",
     "output_type": "stream",
     "text": [
      "Toplam: 12\n"
     ]
    }
   ],
   "source": [
    "def toplama(a,b,c):\n",
    "    print(\"Toplam:\",a+b+c)\n",
    "    \n",
    "toplama(3,4,5)"
   ]
  },
  {
   "cell_type": "code",
   "execution_count": 36,
   "id": "f2aa9afa",
   "metadata": {},
   "outputs": [
    {
     "name": "stdout",
     "output_type": "stream",
     "text": [
      "12\n"
     ]
    }
   ],
   "source": [
    "def toplama(a,b,c):  # Fonksiyondan output değeri istediğimizde return kullanırız \n",
    "    return a + b + c\n",
    "\n",
    "toplam = toplama(3,4,5)\n",
    "print(toplam)"
   ]
  },
  {
   "cell_type": "code",
   "execution_count": 37,
   "id": "7ed0f52e",
   "metadata": {},
   "outputs": [
    {
     "name": "stdout",
     "output_type": "stream",
     "text": [
      "6\n",
      "7\n"
     ]
    }
   ],
   "source": [
    "liste = [1,2,3,4,5,6,7]\n",
    "a = \"Zeliha\"\n",
    "\n",
    "print(len(a))\n",
    "print(len(liste))"
   ]
  },
  {
   "cell_type": "code",
   "execution_count": 38,
   "id": "70ddc686",
   "metadata": {},
   "outputs": [
    {
     "name": "stdout",
     "output_type": "stream",
     "text": [
      "False\n",
      "True\n",
      "Zeliho\n"
     ]
    }
   ],
   "source": [
    "print(a.startswith(\"ab\"))  # ifade ne ile başlıyor :doğru ya da yanlış\n",
    "print(a.endswith(\"a\"))     # ifade ne ile bitiyor :doğru ya da yanlış"
   ]
  },
  {
   "cell_type": "code",
   "execution_count": 39,
   "id": "9643064a",
   "metadata": {},
   "outputs": [
    {
     "name": "stdout",
     "output_type": "stream",
     "text": [
      "Zeliho\n"
     ]
    }
   ],
   "source": [
    "a = \"Zeliha\"\n",
    "a = a.replace(\"a\",\"o\") # Yerine yazdırır.\n",
    "print(a)"
   ]
  },
  {
   "cell_type": "code",
   "execution_count": 40,
   "id": "67067588",
   "metadata": {},
   "outputs": [
    {
     "name": "stdout",
     "output_type": "stream",
     "text": [
      "[1, 2, 3, 4, 5, 6, 7, 'Python']\n"
     ]
    }
   ],
   "source": [
    "liste = [1,2,3,4,5,6,7]\n",
    "liste.append(\"Python\")\n",
    "\n",
    "print(liste)"
   ]
  },
  {
   "cell_type": "code",
   "execution_count": 42,
   "id": "140ab1c7",
   "metadata": {},
   "outputs": [
    {
     "name": "stdout",
     "output_type": "stream",
     "text": [
      "[1, 2, 3, 4, 5, 6]\n"
     ]
    }
   ],
   "source": [
    "liste.pop()  # içine bir şey yazmazsak son değeri siler\n",
    "print(liste)"
   ]
  },
  {
   "cell_type": "code",
   "execution_count": 43,
   "id": "ab11e172",
   "metadata": {},
   "outputs": [
    {
     "name": "stdout",
     "output_type": "stream",
     "text": [
      "bir sayı giriniz:25\n",
      "25\n"
     ]
    }
   ],
   "source": [
    "a =input(\"bir sayı giriniz:\")\n",
    "print(a)"
   ]
  },
  {
   "cell_type": "markdown",
   "id": "826b136f",
   "metadata": {},
   "source": [
    "# OBJECT ORİENTED PROGRAMLAMA"
   ]
  },
  {
   "cell_type": "code",
   "execution_count": 46,
   "id": "8ef24a96",
   "metadata": {},
   "outputs": [
    {
     "name": "stdout",
     "output_type": "stream",
     "text": [
      "İsim: Fadime Zeliha SEYHAN\n",
      "Numara: 3\n",
      "Bakiye: 1000\n",
      "Yeni bakiye: 800\n"
     ]
    }
   ],
   "source": [
    "class Account:  # class oluşturma\n",
    "    \n",
    "    def __init__(self,isim,numara,bakiye):  # obje tanımlama\n",
    "        self.isim = isim\n",
    "        self.numara = numara\n",
    "        self.bakiye = bakiye\n",
    "    \n",
    "    def hesapBilgileri(self):\n",
    "        print(\"İsim:\",self.isim)\n",
    "        print(\"Numara:\",self.numara)\n",
    "        print(\"Bakiye:\",self.bakiye)\n",
    "        \n",
    "    def paraCek(self,miktar):\n",
    "        if (self.bakiye - miktar < 0):\n",
    "            print(\"Bakiyeniz yeterli değil\")\n",
    "        \n",
    "        else:\n",
    "            self.bakiye -= miktar\n",
    "            print(\"Yeni bakiye:\",self.bakiye)\n",
    "    def paraYatır(self,miktar):\n",
    "        self.bakiye += miktar\n",
    "        print(\"Yeni bakiye:\",self.bakiye)\n",
    "        \n",
    "account = Account(\"Fadime Zeliha SEYHAN\",3,1000)\n",
    "account.hesapBilgileri()\n",
    "account.paraCek(200)"
   ]
  },
  {
   "cell_type": "markdown",
   "id": "857655f2",
   "metadata": {},
   "source": [
    "# Boy Kilo İndeksi"
   ]
  },
  {
   "cell_type": "code",
   "execution_count": 47,
   "id": "47c0c7ad",
   "metadata": {},
   "outputs": [
    {
     "name": "stdout",
     "output_type": "stream",
     "text": [
      "Kilonuzu giriniz: 55\n",
      "Boyunuzu giriniz:179\n",
      "0.001716550669454761\n",
      "Zayıfsınız...\n"
     ]
    }
   ],
   "source": [
    "a = int(input(\"Kilonuzu giriniz: \"))\n",
    "b = float(input(\"Boyunuzu giriniz:\"))\n",
    "\n",
    "ort = float( a/b**2)\n",
    "print(ort)\n",
    "\n",
    "if ort < 18.5:\n",
    "    print(\"Zayıfsınız...\")\n",
    "    \n",
    "elif 18.5 < ort < 24.9 :\n",
    "    print(\"Normal kilodasınız...\")\n",
    "    \n",
    "elif 24.9 < ort < 40.0:\n",
    "    print(\"Kilolusunuz...\")\n",
    "    \n",
    "elif ort > 40.0 :\n",
    "    print(\"Obezsiniz...\")\n",
    "    \n",
    "    "
   ]
  },
  {
   "cell_type": "markdown",
   "id": "9ab994b3",
   "metadata": {},
   "source": [
    "# Pozitif-Negatif Sayı"
   ]
  },
  {
   "cell_type": "code",
   "execution_count": 48,
   "id": "748288e4",
   "metadata": {},
   "outputs": [
    {
     "name": "stdout",
     "output_type": "stream",
     "text": [
      "Bir sayı giriniz:23\n",
      "Sayı pozitiftir...\n"
     ]
    }
   ],
   "source": [
    "sayı = float(input(\"Bir sayı giriniz:\"))\n",
    "\n",
    "if sayı < 0:\n",
    "    print(\"Sayı negatiftir...\")\n",
    "    \n",
    "elif sayı > 0:\n",
    "    print(\"Sayı pozitiftir...\")\n",
    "    \n",
    "elif sayı == 0 :\n",
    "    print(\"Sayı sıfırdır...\")\n"
   ]
  },
  {
   "cell_type": "markdown",
   "id": "823a2456",
   "metadata": {},
   "source": [
    "# İki Sayının Ortalaması"
   ]
  },
  {
   "cell_type": "code",
   "execution_count": 50,
   "id": "663135f9",
   "metadata": {},
   "outputs": [
    {
     "name": "stdout",
     "output_type": "stream",
     "text": [
      "Sayı giriniz:23\n",
      "Sayı giriniz:24\n",
      "23.5\n"
     ]
    }
   ],
   "source": [
    "sayı_1 = float(input(\"Sayı giriniz:\"))\n",
    "sayı_2 = float(input(\"Sayı giriniz:\"))\n",
    "\n",
    "ortalama = (sayı_1 + sayı_2) / 2 \n",
    "\n",
    "print(ortalama)"
   ]
  },
  {
   "cell_type": "markdown",
   "id": "9d9171f6",
   "metadata": {},
   "source": [
    "# Quiz game"
   ]
  },
  {
   "cell_type": "code",
   "execution_count": null,
   "id": "8e431888",
   "metadata": {},
   "outputs": [
    {
     "name": "stdout",
     "output_type": "stream",
     "text": [
      "Welcome to my computer quiz! \n"
     ]
    }
   ],
   "source": [
    "print(\"Welcome to my computer quiz! \")\n",
    "\n",
    "playing = input(\"Do you want to play? \")\n",
    "print(playing)\n",
    "\n",
    "if playing.lower() != \"yes\":\n",
    "    guit()     #programı sonlandırır\n",
    "    \n",
    "print(\"Okay! Let's play: \")\n",
    "score = 0\n",
    "\n",
    "answer = input(\"What does CPU stand for? \")\n",
    "if answer.lower() == \"central processing unit\":\n",
    "    print(\"Correct!\")\n",
    "    score +=1\n",
    "else:\n",
    "    print(\"Incorrect!\" )\n",
    "    \n",
    "    \n",
    "answer = input(\"What does GPU stand for?  \")\n",
    "if answer.lower() == \"graphics processing unit\":\n",
    "    print(\"Correct!\")\n",
    "    score +=1\n",
    "else:\n",
    "    print(\"Incorrect!\" )    \n",
    "\n",
    "answer = input(\"What does RAM stand for? \")\n",
    "if answer.lower() == \"random access memory\":\n",
    "    print(\"Correct!\")\n",
    "    score +=1\n",
    "else:\n",
    "    print(\"Incorrect!\" )\n",
    "    \n",
    "\n",
    "answer = input(\"What does PSU stand for? \")\n",
    "if answer.lower() == \"power supply\":\n",
    "    print(\"Correct!\")\n",
    "    score +=1\n",
    "else:\n",
    "    print(\"Incorrect!\" )\n",
    "    \n",
    "print(\"You get\" + str(score) + \" questions corect!  \")\n",
    "print(\"You get\" + str((score/ 4) * 100)  + \" %. \") \n",
    "    \n",
    "\n",
    "\n",
    "\n"
   ]
  },
  {
   "cell_type": "code",
   "execution_count": null,
   "id": "4b4be44e",
   "metadata": {},
   "outputs": [],
   "source": []
  }
 ],
 "metadata": {
  "kernelspec": {
   "display_name": "Python 3 (ipykernel)",
   "language": "python",
   "name": "python3"
  },
  "language_info": {
   "codemirror_mode": {
    "name": "ipython",
    "version": 3
   },
   "file_extension": ".py",
   "mimetype": "text/x-python",
   "name": "python",
   "nbconvert_exporter": "python",
   "pygments_lexer": "ipython3",
   "version": "3.9.7"
  }
 },
 "nbformat": 4,
 "nbformat_minor": 5
}
